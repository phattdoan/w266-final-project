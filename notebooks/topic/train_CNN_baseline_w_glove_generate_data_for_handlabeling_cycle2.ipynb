{
 "cells": [
  {
   "cell_type": "code",
   "execution_count": 1,
   "metadata": {},
   "outputs": [
    {
     "name": "stderr",
     "output_type": "stream",
     "text": [
      "Using TensorFlow backend.\n"
     ]
    },
    {
     "name": "stdout",
     "output_type": "stream",
     "text": [
      "Loading data...\n",
      "Clean up texts...\n",
      "Tokenizing...\n",
      "Integer encoding...\n",
      "Padding...\n"
     ]
    }
   ],
   "source": [
    "# # Install a pip package in the current Jupyter kernel\n",
    "# import sys\n",
    "# !{sys.executable} -m pip install s3fs\n",
    "\n",
    "import numpy as np\n",
    "import pandas as pd\n",
    "import cPickle\n",
    "from collections import defaultdict\n",
    "import re\n",
    "import sys\n",
    "import os\n",
    "\n",
    "from keras.preprocessing.text import Tokenizer\n",
    "from keras.preprocessing.sequence import pad_sequences\n",
    "from sklearn import preprocessing\n",
    "\n",
    "import keras\n",
    "from keras.utils import np_utils\n",
    "from keras.layers import Conv1D, MaxPooling1D, Embedding, Merge\n",
    "from keras.layers import Input, Dense, Activation, Embedding, Conv2D, MaxPool2D\n",
    "from keras.layers import Reshape, Flatten, Dropout, Concatenate\n",
    "from keras.models import Model, Sequential\n",
    "from keras.callbacks import ModelCheckpoint\n",
    "from keras.optimizers import Adam\n",
    "\n",
    "from sklearn.model_selection import train_test_split, KFold\n",
    "\n",
    "import s3fs\n",
    "\n",
    "import time\n",
    "import datetime\n",
    "from data_helpers_v7_out_of_bag import load_data, clean_str, text_preprocessing, label_processing, evaluation, ints2setences\n",
    "from tensorflow.contrib import learn\n",
    "import tensorflow as tf\n",
    "\n",
    "# data preparation --------------------------------------------\n",
    "\n",
    "NUM_SUMPLE = 6000\n",
    "MAX_LEN_DOC = 70\n",
    "MAX_NB_WORDS = 200000\n",
    "URL1 = 's3://smart-newsdev-dmp/tmp/data/classification/data_handlabeling_cycle1/train.csv'\n",
    "URL2 = 's3://smart-newsdev-dmp/tmp/data/classification/data_handlabeling_cycle1/test.csv'\n",
    "TEXT_TITLE_COMBINED = True\n",
    "\n",
    "x, y, split_index, vocab_size, id2word, word2id, pre_x, pre_data, labelEncoder = load_data(\n",
    "    MAX_LEN_DOC=MAX_LEN_DOC, NUM_SUMPLE=NUM_SUMPLE, MAX_NB_WORDS=MAX_NB_WORDS,\n",
    "    url1=URL1, url2=URL2, TEXT_TITLE_COMBINED=TEXT_TITLE_COMBINED)\n",
    "\n",
    "print('x_train shape:', x_train.shape)\n",
    "print('x_test shape:', x_test.shape)"
   ]
  },
  {
   "cell_type": "code",
   "execution_count": 2,
   "metadata": {
    "collapsed": true,
    "scrolled": true
   },
   "outputs": [],
   "source": [
    "pre_x_train, pre_x_test = pre_x.iloc[0:split_index], pre_x.iloc[split_index:]"
   ]
  },
  {
   "cell_type": "code",
   "execution_count": 3,
   "metadata": {
    "collapsed": true
   },
   "outputs": [],
   "source": [
    "def kfold_generator(X, y, data, n):\n",
    "    kf = KFold(n_splits=n, random_state = 7)\n",
    "    result = []\n",
    "    i = 0\n",
    "    for train_index, test_index in kf.split(X):\n",
    "#         print(\"TRAIN:\", train_index, \"TEST:\", test_index)\n",
    "        X_train, X_test = X[train_index], X[test_index]\n",
    "        y_train, y_test = y[train_index], y[test_index]\n",
    "        pre_data_train, pre_data_test = data.iloc[train_index], data.iloc[test_index]\n",
    "        result.append([X_train, X_test, y_train, y_test, pre_data_train, pre_data_test])\n",
    "        i +=1\n",
    "        \n",
    "    return result"
   ]
  },
  {
   "cell_type": "code",
   "execution_count": 4,
   "metadata": {
    "collapsed": true
   },
   "outputs": [],
   "source": [
    "def generate_embed_index():\n",
    "    embeddings_index = {}\n",
    "    f = open('../word_vector/glove.6B.100d.txt')\n",
    "    for line in f:\n",
    "        values = line.split()\n",
    "        word = values[0]\n",
    "        coefs = np.asarray(values[1:], dtype='float32')\n",
    "        embeddings_index[word] = coefs\n",
    "    f.close()\n",
    "\n",
    "    print('Found %s word vectors.' % len(embeddings_index))\n",
    "    \n",
    "    return embeddings_index"
   ]
  },
  {
   "cell_type": "code",
   "execution_count": 5,
   "metadata": {
    "collapsed": true,
    "scrolled": false
   },
   "outputs": [],
   "source": [
    "# parameters --------------------------------------------------\n",
    "\n",
    "sequence_length = x.shape[1]\n",
    "vocabulary_size = vocab_size\n",
    "filter_sizes = [3,4,5]\n",
    "num_filters = 512\n",
    "drop = 0.5\n",
    "num_class = y.shape[1]\n",
    "embedding_dim = 100\n",
    "epochs = 3\n",
    "batch_size = 32\n",
    "# --------------------------------------------------------------\n",
    "\n",
    "def model_generator(embeddings_index):\n",
    "    embedding_matrix = np.zeros((len(word2id) + 1, embedding_dim))\n",
    "    for word, i in word2id.items():\n",
    "        embedding_vector = embeddings_index.get(word)\n",
    "        if embedding_vector is not None:\n",
    "            # words not found in embedding index will be all-zeros.\n",
    "            embedding_matrix[i] = embedding_vector\n",
    "\n",
    "    inputs = Input(shape=(sequence_length,), dtype='int32')\n",
    "    embedding = Embedding(input_dim=vocabulary_size, \n",
    "                          output_dim=embedding_dim,\n",
    "                          weights = [embedding_matrix], #### use pre-trained word vector\n",
    "                          trainable = False,  #### use pre-trained word vector\n",
    "                          input_length=sequence_length)(inputs)\n",
    "    reshape = Reshape((sequence_length,embedding_dim,1))(embedding)\n",
    "\n",
    "    conv_0 = Conv2D(num_filters, kernel_size=(filter_sizes[0], embedding_dim), padding='valid', kernel_initializer='normal', activation='relu')(reshape)\n",
    "    conv_1 = Conv2D(num_filters, kernel_size=(filter_sizes[1], embedding_dim), padding='valid', kernel_initializer='normal', activation='relu')(reshape)\n",
    "    conv_2 = Conv2D(num_filters, kernel_size=(filter_sizes[2], embedding_dim), padding='valid', kernel_initializer='normal', activation='relu')(reshape)\n",
    "\n",
    "    maxpool_0 = MaxPool2D(pool_size=(sequence_length - filter_sizes[0] + 1, 1), strides=(1,1), padding='valid')(conv_0)\n",
    "    maxpool_1 = MaxPool2D(pool_size=(sequence_length - filter_sizes[1] + 1, 1), strides=(1,1), padding='valid')(conv_1)\n",
    "    maxpool_2 = MaxPool2D(pool_size=(sequence_length - filter_sizes[2] + 1, 1), strides=(1,1), padding='valid')(conv_2)\n",
    "\n",
    "    concatenated_tensor = Concatenate(axis=1)([maxpool_0, maxpool_1, maxpool_2])\n",
    "    flatten = Flatten()(concatenated_tensor)\n",
    "    dropout = Dropout(drop)(flatten)\n",
    "    output = Dense(units=num_class, activation='softmax')(dropout)\n",
    "\n",
    "    # this creates a model that includes\n",
    "    return Model(inputs=inputs, outputs=output)\n",
    "\n",
    "\n",
    "def check_sample(pre_x, post_x, sampl_num, id2word):\n",
    "#     print ('\\n{} Original x_text #{} {}\\n'.format('---'*10, sampl_num,'---'*10))\n",
    "#     print (pre_x.iloc[sampl_num])\n",
    "#     print ('\\n{} Original title #{} {}\\n'.format('---'*10, sampl_num,'---'*10))\n",
    "#     print (pre_df['title'].iloc[sampl_num])\n",
    "#     print ('\\n{} Original text #{} {}\\n'.format('---'*10, sampl_num,'---'*10))\n",
    "#     print (pre_df['text'].iloc[sampl_num])\n",
    "#     print ('\\n{} Processed x_text #{} {}\\n'.format('---'*10, sampl_num,'---'*10))\n",
    "#     print (post_x[sampl_num])\n",
    "    print ('\\n{} Reverted x_text #{} {}\\n'.format('---'*10, sampl_num,'---'*10))\n",
    "    print (ints2setences(post_x[sampl_num], id2word))\n",
    "\n",
    "def error_analysis(y_pred, y_test, pre_x, post_x, id2word, num_errors):\n",
    "    for item in np.where(y_pred != y_test):\n",
    "        for i, idx in enumerate (item):\n",
    "            if i < num_errors:\n",
    "                print(\"----------------------------idx {}, prediction {}, test {} ----------------------------------\".format(\n",
    "                    idx, y_pred[idx], y_test[idx]))\n",
    "                print (\"prediction----{}\".format(labelEncoder.inverse_transform(y_pred)[idx]))\n",
    "                print (\"test----------{}\".format(labelEncoder.inverse_transform(y_test)[idx]))\n",
    "                print(\"---\"*30)\n",
    "                print (check_sample(pre_x=pre_x, post_x=post_x, sampl_num=idx, id2word=id2word))\n",
    "                \n",
    "def model_train_evaluate(embeddings_index, x_train, y_train, x_test, y_test, pre_x_test, id2word):\n",
    "    model = model_generator(embeddings_index)\n",
    "\n",
    "    adam = Adam(lr=0.0001, beta_1=0.9, beta_2=0.999, epsilon=1e-08, decay=0.0001)\n",
    "    model.compile(optimizer=adam, loss='categorical_crossentropy', metrics=['accuracy'])\n",
    "    # try categorical_crossentropy?\n",
    "\n",
    "    history = model.fit(x_train, y_train, \n",
    "              batch_size=batch_size, epochs=epochs, verbose=1, validation_split=0.1)\n",
    "\n",
    "    # evaluate the model\n",
    "    scores = model.evaluate(x_test, y_test, verbose=0)\n",
    "    print(\"%s: %.2f%%\" % (model.metrics_names[1], scores[1]*100))\n",
    "\n",
    "    y_pred = model.predict(x_test)\n",
    "    evaluation(y_pred=y_pred.argmax(-1), y_test=y_test.argmax(-1), history=history)\n",
    "#     error_analysis(y_pred.argmax(-1), y_test.argmax(-1), pre_x_test, x_test, id2word, 5)\n",
    "    \n",
    "    return (y_pred)"
   ]
  },
  {
   "cell_type": "code",
   "execution_count": 6,
   "metadata": {
    "collapsed": true,
    "scrolled": false
   },
   "outputs": [],
   "source": [
    "def truncating(text):\n",
    "    result = []\n",
    "    for i, word in enumerate(text.split(\" \")):\n",
    "        if i < 70:\n",
    "            result.append(word)\n",
    "    \n",
    "    return \" \".join(result)\n",
    "\n",
    "def generate_template(y_test, y_pred, pre_x_test, labelEncoder):\n",
    "    \n",
    "    print (pre_x_test.shape)\n",
    "    pre_x_test.reset_index()\n",
    "    pre_x_test = pd.DataFrame(pre_x_test)\n",
    "    pre_x_test['Test_label'] = labelEncoder.inverse_transform(y_test)\n",
    "    pre_x_test['Predict_label'] = labelEncoder.inverse_transform(y_pred)\n",
    "    \n",
    "    for item in np.where(y_pred != y_test):\n",
    "        error_data = pre_x_test.iloc[item]\n",
    "        \n",
    "    # truncate\n",
    "    error_data.loc[:,'text'] = error_data.loc[:,'text'].map(str).apply(truncating)\n",
    "    \n",
    "    del pre_x_test\n",
    "    \n",
    "    return error_data"
   ]
  },
  {
   "cell_type": "code",
   "execution_count": 7,
   "metadata": {},
   "outputs": [
    {
     "name": "stdout",
     "output_type": "stream",
     "text": [
      "Found 400000 word vectors.\n"
     ]
    }
   ],
   "source": [
    "embeddings_index = generate_embed_index()\n",
    "\n",
    "data_sets = kfold_generator(x, y, pre_data, 4)"
   ]
  },
  {
   "cell_type": "code",
   "execution_count": 8,
   "metadata": {
    "scrolled": false
   },
   "outputs": [
    {
     "name": "stdout",
     "output_type": "stream",
     "text": [
      "Train on 6651 samples, validate on 740 samples\n",
      "Epoch 1/3\n",
      "6651/6651 [==============================] - 41s 6ms/step - loss: 2.5140 - acc: 0.2333 - val_loss: 1.2488 - val_acc: 0.6959\n",
      "Epoch 2/3\n",
      "6651/6651 [==============================] - 47s 7ms/step - loss: 1.5582 - acc: 0.4772 - val_loss: 0.8690 - val_acc: 0.7878\n",
      "Epoch 3/3\n",
      "6651/6651 [==============================] - 46s 7ms/step - loss: 1.1301 - acc: 0.6246 - val_loss: 0.7058 - val_acc: 0.8284\n",
      "acc: 80.19%\n",
      "---------Confusion Matrix Report -------------------- \n",
      "\n",
      "[[145  11  14   4   7   6   5  27  15]\n",
      " [  0 274   5   5   6   1  10   8   3]\n",
      " [  7  33  93   9   5  26   4  12  11]\n",
      " [  7  11   2 161  10  14   3   1  19]\n",
      " [  4   7   3   8 250   3   3   1  15]\n",
      " [  7   5   4   1   2 294   1   3   5]\n",
      " [  0   5   2   2   0   2 304   1   0]\n",
      " [ 15   4   0   2   3  16   5 221   6]\n",
      " [ 16   5   0  10   6   7   7   1 234]]\n",
      "\n",
      "---------Classificaiton Report ---------------------- \n",
      "\n",
      "             precision    recall  f1-score   support\n",
      "\n",
      "          0       0.72      0.62      0.67       234\n",
      "          1       0.77      0.88      0.82       312\n",
      "          2       0.76      0.47      0.58       200\n",
      "          3       0.80      0.71      0.75       228\n",
      "          4       0.87      0.85      0.86       294\n",
      "          5       0.80      0.91      0.85       322\n",
      "          6       0.89      0.96      0.92       316\n",
      "          7       0.80      0.81      0.81       272\n",
      "          8       0.76      0.82      0.79       286\n",
      "\n",
      "avg / total       0.80      0.80      0.80      2464\n",
      "\n",
      "['acc', 'loss', 'val_acc', 'val_loss']\n"
     ]
    },
    {
     "data": {
      "image/png": "[encoded data removed]",
      "text/plain": [
       "<matplotlib.figure.Figure at 0x7fe777f3fa10>"
      ]
     },
     "metadata": {},
     "output_type": "display_data"
    },
    {
     "data": {
      "image/png": "[encoded data removed]",
      "text/plain": [
       "<matplotlib.figure.Figure at 0x7fe7783084d0>"
      ]
     },
     "metadata": {},
     "output_type": "display_data"
    }
   ],
   "source": [
    "x_train = data_sets[0][0] # x_train\n",
    "x_test = data_sets[0][1] # x_test\n",
    "y_train = data_sets[0][2] # y_train\n",
    "y_test = data_sets[0][3] # y_test\n",
    "pre_data_train = data_sets[0][4] # pre_data_train\n",
    "pre_data_test = data_sets[0][5] # pre_data_test\n",
    "\n",
    "y_pred = model_train_evaluate(embeddings_index, x_train, y_train, x_test, y_test, pre_x_test, id2word)"
   ]
  },
  {
   "cell_type": "code",
   "execution_count": 9,
   "metadata": {
    "scrolled": false
   },
   "outputs": [
    {
     "name": "stdout",
     "output_type": "stream",
     "text": [
      "(2464, 7)\n",
      "error data has 488 rows\n",
      "               category  char_length    idx  \\\n",
      "0        EN_US_BUSINESS       3804.0  10425   \n",
      "5       EN_US_LIFESTYLE       3225.0  13472   \n",
      "13      EN_US_LIFESTYLE       4856.0   6882   \n",
      "21       EN_US_NATIONAL       4019.0   4938   \n",
      "27      EN_US_LIFESTYLE       1864.0     44   \n",
      "28      EN_US_LIFESTYLE       6950.0   4735   \n",
      "33       EN_US_BUSINESS      16542.0  10519   \n",
      "41  EN_US_ENTERTAINMENT       4546.0   2931   \n",
      "49       EN_US_POLITICS       3529.0  11793   \n",
      "56      EN_US_LIFESTYLE       7600.0   7090   \n",
      "\n",
      "                                                 text  \\\n",
      "0   [article_title] [article_body] Want To Work Fo...   \n",
      "5   The very hungry caterpillars: Amazing pictures...   \n",
      "13  Katie Heaney BuzzFeed Staff colematt / Thinkst...   \n",
      "21  Health-care fraud in America That’s where the ...   \n",
      "27  News A A A (resize font) (CNN) - Here's a roun...   \n",
      "28  Your brain's system for directing attention is...   \n",
      "33  News Entertainment Lifestyle Tech & Innovation...   \n",
      "41  The Priory, which counts Kate Moss and singers...   \n",
      "49  Rick Scibelli, Jr. for The New York Times The ...   \n",
      "56  August 12, 2014 HISEVILLE, KY. — The 600 calve...   \n",
      "\n",
      "                                                title  \\\n",
      "0   Want To Work For A Startup? Ask These Six Ques...   \n",
      "5   Millions of green caterpillars swarm all over ...   \n",
      "13             Which Dessert Matches Your Zodiac Sign   \n",
      "21                       Health-care fraud in America   \n",
      "27                   More babies are being breast-fed   \n",
      "28  How I conjure a social illusion with ventriloq...   \n",
      "33  How B Corps Might Slay the Dragon of Maximizin...   \n",
      "41  Priory Group in talks to buy psychiatric rival...   \n",
      "49    A Rate Cap for All Consumer Loans - NYTimes.com   \n",
      "56             Veal Farmers Adopt More Humane Methods   \n",
      "\n",
      "                                                  url  char_length1  \\\n",
      "0   http://www.forbes.com/sites/theyec/2014/07/21/...          3744   \n",
      "5   http://www.dailymail.co.uk/news/article-265544...          3088   \n",
      "13  http://www.buzzfeed.com/katieheaney/what-desse...          4038   \n",
      "21  http://www.economist.com/news/leaders/21603026...          3992   \n",
      "27  http://www.cnn.com/2014/08/01/health/five-stud...          1742   \n",
      "28  http://www.newscientist.com/article/mg22229720...          6605   \n",
      "33  http://www.huffingtonpost.com/dan-pontefract/h...         16474   \n",
      "41  http://www.telegraph.co.uk/finance/newsbysecto...          4372   \n",
      "49  www.nytimes.com/2014/10/19/opinion/sunday/a-ra...          3528   \n",
      "56  http://www.nytimes.com/2014/08/13/dining/veal-...          7369   \n",
      "\n",
      "             Test_label        Predict_label  \n",
      "0        EN_US_BUSINESS  EN_US_ENTERTAINMENT  \n",
      "5       EN_US_LIFESTYLE        EN_US_SCIENCE  \n",
      "13      EN_US_LIFESTYLE  EN_US_ENTERTAINMENT  \n",
      "21       EN_US_NATIONAL        EN_US_SCIENCE  \n",
      "27      EN_US_LIFESTYLE        EN_US_SCIENCE  \n",
      "28      EN_US_LIFESTYLE  EN_US_ENTERTAINMENT  \n",
      "33       EN_US_BUSINESS      EN_US_LIFESTYLE  \n",
      "41  EN_US_ENTERTAINMENT          EN_US_WORLD  \n",
      "49       EN_US_POLITICS       EN_US_BUSINESS  \n",
      "56      EN_US_LIFESTYLE        EN_US_SCIENCE  \n"
     ]
    },
    {
     "name": "stderr",
     "output_type": "stream",
     "text": [
      "/home/ec2-user/anaconda3/envs/tensorflow_p27/lib/python2.7/site-packages/pandas/core/indexing.py:517: SettingWithCopyWarning: \n",
      "A value is trying to be set on a copy of a slice from a DataFrame.\n",
      "Try using .loc[row_indexer,col_indexer] = value instead\n",
      "\n",
      "See the caveats in the documentation: http://pandas.pydata.org/pandas-docs/stable/indexing.html#indexing-view-versus-copy\n",
      "  self.obj[item] = s\n"
     ]
    }
   ],
   "source": [
    "error_data1 = generate_template(y_test.argmax(-1), y_pred.argmax(-1), pre_data_test, labelEncoder)\n",
    "print (\"error data has {} rows\".format(len(error_data1)))\n",
    "print (error_data1.head(10))"
   ]
  },
  {
   "cell_type": "code",
   "execution_count": 10,
   "metadata": {
    "scrolled": false
   },
   "outputs": [
    {
     "name": "stdout",
     "output_type": "stream",
     "text": [
      "Train on 6651 samples, validate on 740 samples\n",
      "Epoch 1/3\n",
      "6651/6651 [==============================] - 56s 8ms/step - loss: 2.5039 - acc: 0.2330 - val_loss: 1.2473 - val_acc: 0.7068\n",
      "Epoch 2/3\n",
      "6651/6651 [==============================] - 71s 11ms/step - loss: 1.5983 - acc: 0.4638 - val_loss: 0.8801 - val_acc: 0.7770\n",
      "Epoch 3/3\n",
      "6651/6651 [==============================] - 70s 11ms/step - loss: 1.1362 - acc: 0.6190 - val_loss: 0.7098 - val_acc: 0.8230\n",
      "acc: 78.90%\n",
      "---------Confusion Matrix Report -------------------- \n",
      "\n",
      "[[105   5  11   8   9   5  10  39  14]\n",
      " [  1 242   5   8   2   6  19   9   5]\n",
      " [  2  31 103  15   4  18  10  15   9]\n",
      " [  4   3   9 174  16   9   9   4   8]\n",
      " [  4   2   4   6 240   0   5   3  25]\n",
      " [  1   2   2   0   2 256   6   8   4]\n",
      " [  0   6   1   0   1   2 372   3   2]\n",
      " [  8   4   9   1   1  12   3 249   5]\n",
      " [  9  10   2  16  10   8   7   4 203]]\n",
      "\n",
      "---------Classificaiton Report ---------------------- \n",
      "\n",
      "             precision    recall  f1-score   support\n",
      "\n",
      "          0       0.78      0.51      0.62       206\n",
      "          1       0.79      0.81      0.80       297\n",
      "          2       0.71      0.50      0.58       207\n",
      "          3       0.76      0.74      0.75       236\n",
      "          4       0.84      0.83      0.84       289\n",
      "          5       0.81      0.91      0.86       281\n",
      "          6       0.84      0.96      0.90       387\n",
      "          7       0.75      0.85      0.80       292\n",
      "          8       0.74      0.75      0.75       269\n",
      "\n",
      "avg / total       0.79      0.79      0.78      2464\n",
      "\n",
      "['acc', 'loss', 'val_acc', 'val_loss']\n"
     ]
    },
    {
     "data": {
      "image/png": "[encoded data removed]",
      "text/plain": [
       "<matplotlib.figure.Figure at 0x7fe778b38190>"
      ]
     },
     "metadata": {},
     "output_type": "display_data"
    },
    {
     "data": {
      "image/png": "[encoded data removed]",
      "text/plain": [
       "<matplotlib.figure.Figure at 0x7fe7789cc2d0>"
      ]
     },
     "metadata": {},
     "output_type": "display_data"
    }
   ],
   "source": [
    "x_train = data_sets[1][0] # x_train\n",
    "x_test = data_sets[1][1] # x_test\n",
    "y_train = data_sets[1][2] # y_train\n",
    "y_test = data_sets[1][3] # y_test\n",
    "pre_data_train = data_sets[1][4] # pre_data_train\n",
    "pre_data_test = data_sets[1][5] # pre_data_test\n",
    "\n",
    "y_pred = model_train_evaluate(embeddings_index, x_train, y_train, x_test, y_test, pre_x_test, id2word)"
   ]
  },
  {
   "cell_type": "code",
   "execution_count": 11,
   "metadata": {
    "scrolled": false
   },
   "outputs": [
    {
     "name": "stdout",
     "output_type": "stream",
     "text": [
      "(2464, 7)\n",
      "error data has 520 rows\n",
      "              category  char_length    idx  \\\n",
      "2469    EN_US_BUSINESS      11655.0   7836   \n",
      "2473   EN_US_LIFESTYLE       1822.0   1725   \n",
      "2483      EN_US_SPORTS       1078.0    245   \n",
      "2504   EN_US_LIFESTYLE      10090.0   6772   \n",
      "2510    EN_US_BUSINESS       7520.0   9161   \n",
      "2517   EN_US_LIFESTYLE       3513.0   5375   \n",
      "2521    EN_US_POLITICS       2121.0  14931   \n",
      "2528    EN_US_BUSINESS       9061.0    691   \n",
      "2543  EN_US_TECHNOLOGY       9810.0  14888   \n",
      "2544    EN_US_BUSINESS       4396.0   1669   \n",
      "\n",
      "                                                   text  \\\n",
      "2469  A big screen flashes commercials on the exteri...   \n",
      "2473  Senior dog heartbroken after owner surrendered...   \n",
      "2483  iPlayer Radio After reliving Muhammad Ali's fa...   \n",
      "2504  A wedding cake depicting a same-sex couple. Si...   \n",
      "2510  Ford has taken a big gamble with its all-alumi...   \n",
      "2517  Speed volunteering will link people to relevan...   \n",
      "2521  US Secretary of State John Kerry has met with ...   \n",
      "2528  Which is the world's biggest employer? The Nat...   \n",
      "2543  Shutterstock/noolwlee I remember the moment, f...   \n",
      "2544  Almost a year after Sheryl Sandberg sparked co...   \n",
      "\n",
      "                                                  title  \\\n",
      "2469  World's top PR companies rule out working with...   \n",
      "2473  Her name is Rain and she desperately wants a h...   \n",
      "2483  Should Ali have retired after the Rumble in th...   \n",
      "2504  The 12 best quotes from the past year of same-...   \n",
      "2510  Ford profit falls in third quarter on truck costs   \n",
      "2517                A quick guide to speed volunteering   \n",
      "2521      Kerry meets Russia's Lavrov for Ukraine talks   \n",
      "2528             Which is the world's biggest employer?   \n",
      "2543  Why Can't Americans Find Out What Big Data Kno...   \n",
      "2544     Arianna Huffington Talks About New Book Thrive   \n",
      "\n",
      "                                                    url  char_length1  \\\n",
      "2469  http://www.theguardian.com/environment/2014/au...         11001   \n",
      "2473  http://www.examiner.com/article/her-name-is-ra...          1639   \n",
      "2483           http://www.bbc.co.uk/programmes/p029q79s           845   \n",
      "2504  http://www.vox.com/2014/9/9/6119585/tk-quotes-...          9758   \n",
      "2510  http://www.latimes.com/business/la-fi-ford-ear...          7014   \n",
      "2517  http://www.theguardian.com/voluntary-sector-ne...          3241   \n",
      "2521  http://www.aljazeera.com/news/europe/2014/03/k...          2121   \n",
      "2528        http://www.bbc.co.uk/news/magazine-17429786          8711   \n",
      "2543  http://www.theatlantic.com/technology/archive/...          9569   \n",
      "2544  http://www.shape.com/blogs/shape-your-life/ari...          4396   \n",
      "\n",
      "            Test_label        Predict_label  \n",
      "2469    EN_US_BUSINESS          EN_US_WORLD  \n",
      "2473   EN_US_LIFESTYLE       EN_US_NATIONAL  \n",
      "2483      EN_US_SPORTS  EN_US_ENTERTAINMENT  \n",
      "2504   EN_US_LIFESTYLE       EN_US_POLITICS  \n",
      "2510    EN_US_BUSINESS     EN_US_TECHNOLOGY  \n",
      "2517   EN_US_LIFESTYLE     EN_US_TECHNOLOGY  \n",
      "2521    EN_US_POLITICS          EN_US_WORLD  \n",
      "2528    EN_US_BUSINESS          EN_US_WORLD  \n",
      "2543  EN_US_TECHNOLOGY      EN_US_LIFESTYLE  \n",
      "2544    EN_US_BUSINESS       EN_US_POLITICS  \n"
     ]
    }
   ],
   "source": [
    "error_data2 = generate_template(y_test.argmax(-1), y_pred.argmax(-1), pre_data_test, labelEncoder)\n",
    "print (\"error data has {} rows\".format(len(error_data2)))\n",
    "print (error_data2.head(10))"
   ]
  },
  {
   "cell_type": "code",
   "execution_count": 12,
   "metadata": {},
   "outputs": [
    {
     "name": "stdout",
     "output_type": "stream",
     "text": [
      "Train on 6651 samples, validate on 740 samples\n",
      "Epoch 1/3\n",
      "6651/6651 [==============================] - 71s 11ms/step - loss: 2.5480 - acc: 0.2324 - val_loss: 1.2828 - val_acc: 0.6514\n",
      "Epoch 2/3\n",
      "6651/6651 [==============================] - 70s 11ms/step - loss: 1.6082 - acc: 0.4563 - val_loss: 0.8455 - val_acc: 0.8270\n",
      "Epoch 3/3\n",
      "6651/6651 [==============================] - 70s 11ms/step - loss: 1.1526 - acc: 0.6149 - val_loss: 0.6890 - val_acc: 0.8324\n",
      "acc: 80.97%\n",
      "---------Confusion Matrix Report -------------------- \n",
      "\n",
      "[[117   2  18   6   6   3   6  38  15]\n",
      " [  0 262   9   4   3   1   6  10   2]\n",
      " [  3  21 112  11   6  18   4   6  13]\n",
      " [  3   8   6 167  15  11   4   4   9]\n",
      " [  1   3   3   9 246   1   1   3  24]\n",
      " [  1   4  10   3   2 275   2   5   3]\n",
      " [  2   1   1   2   1   1 329   2   1]\n",
      " [  6   4  10   1   1  15   0 244   6]\n",
      " [  5   3   8  19   4  12   9   9 243]]\n",
      "\n",
      "---------Classificaiton Report ---------------------- \n",
      "\n",
      "             precision    recall  f1-score   support\n",
      "\n",
      "          0       0.85      0.55      0.67       211\n",
      "          1       0.85      0.88      0.87       297\n",
      "          2       0.63      0.58      0.60       194\n",
      "          3       0.75      0.74      0.74       227\n",
      "          4       0.87      0.85      0.86       291\n",
      "          5       0.82      0.90      0.86       305\n",
      "          6       0.91      0.97      0.94       340\n",
      "          7       0.76      0.85      0.80       287\n",
      "          8       0.77      0.78      0.77       312\n",
      "\n",
      "avg / total       0.81      0.81      0.81      2464\n",
      "\n",
      "['acc', 'loss', 'val_acc', 'val_loss']\n"
     ]
    },
    {
     "data": {
      "image/png": "[encoded data removed]",
      "text/plain": [
       "<matplotlib.figure.Figure at 0x7fe7e4e30f10>"
      ]
     },
     "metadata": {},
     "output_type": "display_data"
    },
    {
     "data": {
      "image/png": "[encoded data removed]",
      "text/plain": [
       "<matplotlib.figure.Figure at 0x7fe7ec1fded0>"
      ]
     },
     "metadata": {},
     "output_type": "display_data"
    },
    {
     "name": "stdout",
     "output_type": "stream",
     "text": [
      "(2464, 7)\n",
      "error data has 469 rows\n",
      "                 category  char_length    idx  \\\n",
      "4930       EN_US_POLITICS       4428.0  21897   \n",
      "4936          EN_US_WORLD       8617.0   1865   \n",
      "4937          EN_US_WORLD       1595.0   1362   \n",
      "4946       EN_US_NATIONAL       9131.0  19607   \n",
      "4950       EN_US_BUSINESS       8144.0   9036   \n",
      "4962  EN_US_ENTERTAINMENT       2831.0   4416   \n",
      "4967       EN_US_BUSINESS       4091.0   9372   \n",
      "4970       EN_US_BUSINESS       4269.0  11474   \n",
      "4984       EN_US_NATIONAL       8502.0   8940   \n",
      "4987       EN_US_POLITICS       5876.0  12159   \n",
      "\n",
      "                                                   text  \\\n",
      "4930  1. Pauline Pearce, dubbed the Hackney Heroine ...   \n",
      "4936  Story by the Associated Press; curated by Dave...   \n",
      "4937  Japanese teenager straps toothbrush to an auto...   \n",
      "4946  In his brief remarks Thursday on the alarming ...   \n",
      "4950  Once I was making oatmeal in the microwave in ...   \n",
      "4962  Money LIFE Photography Videos Next Generation ...   \n",
      "4967  The worldwide smartphone market is continuing ...   \n",
      "4970  Ofcom's proposed spectrum fees prompted indust...   \n",
      "4984  i This woman, who has had her prostitution cha...   \n",
      "4987  The Fox News host says he was in a \"war zone\" ...   \n",
      "\n",
      "                                                  title  \\\n",
      "4930  The Liberal Democrats Have Been Accused Of “Un...   \n",
      "4936  American Father & Son Killed in Kabul Attack S...   \n",
      "4937  Is this Japan's stupidest teenager? Boy videos...   \n",
      "4946   Secrecy in American Policing: A Disturbing Trend   \n",
      "4950                 An Introvert's Guide to Networking   \n",
      "4962  Hunger Games Mockingjay Soundtrack: Kanye West...   \n",
      "4967  IDC: Samsung, Apple Lost Smartphone Market Sha...   \n",
      "4970  Ofcom scraps five-fold increase in mobile oper...   \n",
      "4984  Little-Known Laws Help Sex Trafficking Victims...   \n",
      "4987  CBS Has Released the Falklands Protest Footage...   \n",
      "\n",
      "                                                    url  char_length1  \\\n",
      "4930  http://www.buzzfeed.com/jimwaterson/liberal-de...          3973   \n",
      "4936  http://www.theblaze.com/stories/2014/04/26/fat...          8337   \n",
      "4937  http://www.dailymail.co.uk/news/article-261468...          1595   \n",
      "4946  http://www.newrepublic.com/article/119096/secr...          8656   \n",
      "4950  http://thenextweb.com/lifehacks/2014/05/30/gui...          7904   \n",
      "4962  http://time.com/3579149/hunger-games-mockingja...          2521   \n",
      "4967  http://thenextweb.com/insider/2014/07/30/idc-g...          3873   \n",
      "4970  http://www.telegraph.co.uk/finance/newsbysecto...          4095   \n",
      "4984  http://www.npr.org/2015/02/24/388716830/little...          8262   \n",
      "4987  http://www.motherjones.com/politics/2015/02/cb...          5766   \n",
      "\n",
      "               Test_label     Predict_label  \n",
      "4930       EN_US_POLITICS       EN_US_WORLD  \n",
      "4936          EN_US_WORLD    EN_US_NATIONAL  \n",
      "4937          EN_US_WORLD   EN_US_LIFESTYLE  \n",
      "4946       EN_US_NATIONAL    EN_US_POLITICS  \n",
      "4950       EN_US_BUSINESS   EN_US_LIFESTYLE  \n",
      "4962  EN_US_ENTERTAINMENT  EN_US_TECHNOLOGY  \n",
      "4967       EN_US_BUSINESS  EN_US_TECHNOLOGY  \n",
      "4970       EN_US_BUSINESS       EN_US_WORLD  \n",
      "4984       EN_US_NATIONAL   EN_US_LIFESTYLE  \n",
      "4987       EN_US_POLITICS       EN_US_WORLD  \n"
     ]
    }
   ],
   "source": [
    "x_train = data_sets[2][0] # x_train\n",
    "x_test = data_sets[2][1] # x_test\n",
    "y_train = data_sets[2][2] # y_train\n",
    "y_test = data_sets[2][3] # y_test\n",
    "pre_data_train = data_sets[2][4] # pre_data_train\n",
    "pre_data_test = data_sets[2][5] # pre_data_test\n",
    "\n",
    "y_pred = model_train_evaluate(embeddings_index, x_train, y_train, x_test, y_test, pre_x_test, id2word)\n",
    "error_data3 = generate_template(y_test.argmax(-1), y_pred.argmax(-1), pre_data_test, labelEncoder)\n",
    "print (\"error data has {} rows\".format(len(error_data3)))\n",
    "print (error_data3.head(10))"
   ]
  },
  {
   "cell_type": "code",
   "execution_count": 13,
   "metadata": {
    "scrolled": false
   },
   "outputs": [
    {
     "name": "stdout",
     "output_type": "stream",
     "text": [
      "Train on 6652 samples, validate on 740 samples\n",
      "Epoch 1/3\n",
      "6652/6652 [==============================] - 71s 11ms/step - loss: 2.5275 - acc: 0.2387 - val_loss: 1.2044 - val_acc: 0.7297\n",
      "Epoch 2/3\n",
      "6652/6652 [==============================] - 73s 11ms/step - loss: 1.5938 - acc: 0.4642 - val_loss: 0.8356 - val_acc: 0.7986\n",
      "Epoch 3/3\n",
      "6652/6652 [==============================] - 80s 12ms/step - loss: 1.1859 - acc: 0.6022 - val_loss: 0.6791 - val_acc: 0.8189\n",
      "acc: 82.58%\n",
      "---------Confusion Matrix Report -------------------- \n",
      "\n",
      "[[124   8   9   4   7   5   2  19  11]\n",
      " [  1 274   8   9   1   0   6   6   3]\n",
      " [  4  37  96  15   7  11   7  11   2]\n",
      " [  3   5   3 184  19   7   5   3  15]\n",
      " [  0   5   3   9 257   1   1   1  11]\n",
      " [  2   7   6   7   2 282   0   6   6]\n",
      " [  0   5   2   3   2   0 336   4   2]\n",
      " [  5   3   6   3   0   3   2 256   6]\n",
      " [  5  11   6  11  13   6   6   5 225]]\n",
      "\n",
      "---------Classificaiton Report ---------------------- \n",
      "\n",
      "             precision    recall  f1-score   support\n",
      "\n",
      "          0       0.86      0.66      0.74       189\n",
      "          1       0.77      0.89      0.83       308\n",
      "          2       0.69      0.51      0.58       190\n",
      "          3       0.75      0.75      0.75       244\n",
      "          4       0.83      0.89      0.86       288\n",
      "          5       0.90      0.89      0.89       318\n",
      "          6       0.92      0.95      0.93       354\n",
      "          7       0.82      0.90      0.86       284\n",
      "          8       0.80      0.78      0.79       288\n",
      "\n",
      "avg / total       0.82      0.83      0.82      2463\n",
      "\n",
      "['acc', 'loss', 'val_acc', 'val_loss']\n"
     ]
    },
    {
     "data": {
      "image/png": "[encoded data removed]",
      "text/plain": [
       "<matplotlib.figure.Figure at 0x7fe7e4bd91d0>"
      ]
     },
     "metadata": {},
     "output_type": "display_data"
    },
    {
     "data": {
      "image/png": "[encoded data removed]",
      "text/plain": [
       "<matplotlib.figure.Figure at 0x7fe7e462a3d0>"
      ]
     },
     "metadata": {},
     "output_type": "display_data"
    },
    {
     "name": "stdout",
     "output_type": "stream",
     "text": [
      "(2463, 7)\n",
      "error data has 429 rows\n",
      "                 category  char_length    idx  \\\n",
      "7392          EN_US_WORLD       6372.0   3637   \n",
      "7395      EN_US_LIFESTYLE       1349.0  55692   \n",
      "7396     EN_US_TECHNOLOGY       2726.0   7617   \n",
      "7399      EN_US_LIFESTYLE      11470.0   6592   \n",
      "7400        EN_US_SCIENCE       6164.0  23754   \n",
      "7407       EN_US_NATIONAL      14289.0   3914   \n",
      "7410  EN_US_ENTERTAINMENT       7056.0   5682   \n",
      "7415       EN_US_BUSINESS       5352.0  11679   \n",
      "7417       EN_US_POLITICS       4255.0   8197   \n",
      "7420       EN_US_NATIONAL       2103.0  14184   \n",
      "\n",
      "                                                   text  \\\n",
      "7392  So much for summer: Snow set to blast Scotland...   \n",
      "7395  More iPlayer Radio The BBC's economic editor R...   \n",
      "7396  GE, the world's sixth-largest company, reveals...   \n",
      "7399  Igor Bobic The Huffington Post 06/10/14 10:39 ...   \n",
      "7400  White rhinos in Nakuru Africa Three students f...   \n",
      "7407  News Entertainment Lifestyle Tech & Innovation...   \n",
      "7410  At least, you don't want online multiplayabili...   \n",
      "7415  All Rights Reserved. Cell Phones Desktops Digi...   \n",
      "7417  Wednesday, People magazine published an interv...   \n",
      "7420  Josh Sweat says he will be a Seminole. (247Spo...   \n",
      "\n",
      "                                                  title  \\\n",
      "7392  Snow set to blast Scotland as forecasters warn...   \n",
      "7395  Robert Peston: Lung cancer diagnosis 'not quic...   \n",
      "7396  Private, hybrid clouds may only be temporary s...   \n",
      "7399  Here Are The Top Ten Political Memoirs Nobody ...   \n",
      "7400   Students devise way to track poachers from space   \n",
      "7407  Christopher Newsom, Channon Christian Remember...   \n",
      "7410  You Don't Really Want Online Multiplayer Video...   \n",
      "7415  Sprint CEO tries to get back in the game with ...   \n",
      "7417  FLOTUS Flashback: Woman Asked for Help at Targ...   \n",
      "7420  Nation's No. 1 recruit Josh Sweat commits to F...   \n",
      "\n",
      "                                                    url  char_length1  \\\n",
      "7392  http://www.dailymail.co.uk/news/article-272773...          6243   \n",
      "7395           http://www.bbc.co.uk/programmes/p020q1r6          1113   \n",
      "7396  www.zdnet.com/private-hybrid-clouds-may-only-b...          2722   \n",
      "7399  http://www.huffingtonpost.com/2014/06/10/clint...         11174   \n",
      "7400  http://www.examiner.com/article/students-devis...          5954   \n",
      "7407  http://www.huffingtonpost.com/2013/01/07/chris...         14018   \n",
      "7410  http://www.popsci.com/article/gadgets/you-dont...          6569   \n",
      "7415  http://www.cnet.com/uk/news/sprint-ceo-tries-t...          5218   \n",
      "7417  http://www.breitbart.com/video/2014/12/17/flot...          4080   \n",
      "7420  http://www.cbssports.com/collegefootball/eye-o...          2022   \n",
      "\n",
      "               Test_label        Predict_label  \n",
      "7392          EN_US_WORLD       EN_US_BUSINESS  \n",
      "7395      EN_US_LIFESTYLE  EN_US_ENTERTAINMENT  \n",
      "7396     EN_US_TECHNOLOGY       EN_US_BUSINESS  \n",
      "7399      EN_US_LIFESTYLE       EN_US_POLITICS  \n",
      "7400        EN_US_SCIENCE          EN_US_WORLD  \n",
      "7407       EN_US_NATIONAL          EN_US_WORLD  \n",
      "7410  EN_US_ENTERTAINMENT     EN_US_TECHNOLOGY  \n",
      "7415       EN_US_BUSINESS     EN_US_TECHNOLOGY  \n",
      "7417       EN_US_POLITICS      EN_US_LIFESTYLE  \n",
      "7420       EN_US_NATIONAL         EN_US_SPORTS  \n"
     ]
    }
   ],
   "source": [
    "x_train = data_sets[3][0] # x_train\n",
    "x_test = data_sets[3][1] # x_test\n",
    "y_train = data_sets[3][2] # y_train\n",
    "y_test = data_sets[3][3] # y_test\n",
    "pre_data_train = data_sets[3][4] # pre_data_train\n",
    "pre_data_test = data_sets[3][5] # pre_data_test\n",
    "\n",
    "y_pred = model_train_evaluate(embeddings_index, x_train, y_train, x_test, y_test, pre_x_test, id2word)\n",
    "error_data4 = generate_template(y_test.argmax(-1), y_pred.argmax(-1), pre_data_test, labelEncoder)\n",
    "print (\"error data has {} rows\".format(len(error_data4)))\n",
    "print (error_data4.head(10))"
   ]
  },
  {
   "cell_type": "code",
   "execution_count": 14,
   "metadata": {
    "scrolled": true
   },
   "outputs": [
    {
     "name": "stdout",
     "output_type": "stream",
     "text": [
      "(1906, 9)\n",
      "(1906, 9)\n"
     ]
    }
   ],
   "source": [
    "error_combined = pd.concat([error_data1, error_data2, error_data3, error_data4])\n",
    "\n",
    "error_combined.loc[:, ('idx','title', 'text', 'url', 'Test_label', 'Predict_label')].to_csv('error_combined.csv', sep=',', index = False)\n",
    "print (error_combined.shape)\n",
    "\n",
    "# make sure there is no duplicate row\n",
    "error_combined.drop_duplicates(subset=['idx', 'title'], inplace = True)\n",
    "print (error_combined.shape)"
   ]
  },
  {
   "cell_type": "code",
   "execution_count": 15,
   "metadata": {
    "collapsed": true
   },
   "outputs": [],
   "source": [
    "from io import StringIO\n",
    "import boto3\n",
    "\n",
    "def upload_to_s3(bucket, folder, file):\n",
    "    s3 = boto3.resource('s3')\n",
    "    data = open(file, \"rb\")\n",
    "    key = 'tmp/data/classification/' + folder + file\n",
    "    s3.Bucket(bucket).put_object(Key=key, Body=data)\n",
    "\n",
    "bucket = 'smart-newsdev-dmp'\n",
    "folder = 'data_handlabeling_cycle2/'\n",
    "\n",
    "upload_to_s3(bucket, folder, 'error_combined.csv')"
   ]
  },
  {
   "cell_type": "code",
   "execution_count": null,
   "metadata": {
    "collapsed": true
   },
   "outputs": [],
   "source": []
  }
 ],
 "metadata": {
  "kernelspec": {
   "display_name": "conda_tensorflow_p27",
   "language": "python",
   "name": "conda_tensorflow_p27"
  },
  "language_info": {
   "codemirror_mode": {
    "name": "ipython",
    "version": 2
   },
   "file_extension": ".py",
   "mimetype": "text/x-python",
   "name": "python",
   "nbconvert_exporter": "python",
   "pygments_lexer": "ipython2",
   "version": "2.7.11"
  }
 },
 "nbformat": 4,
 "nbformat_minor": 2
}
