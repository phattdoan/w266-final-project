{
 "cells": [
  {
   "cell_type": "markdown",
   "metadata": {},
   "source": [
    "# Reddit Scraper\n",
    "\n",
    "Get the title, summary, and link\n",
    "\n",
    "References:\n",
    "\n",
    "https://unsupervisedlearning.wordpress.com/2012/08/26/weekend-project-reddit-comment-scraper-in-python/\n"
   ]
  },
  {
   "cell_type": "markdown",
   "metadata": {},
   "source": [
    "## Setting up the environment"
   ]
  },
  {
   "cell_type": "code",
   "execution_count": 30,
   "metadata": {},
   "outputs": [],
   "source": [
    "import json, requests\n",
    "import pandas as pd"
   ]
  },
  {
   "cell_type": "markdown",
   "metadata": {},
   "source": [
    "## /r/savedyouaclick"
   ]
  },
  {
   "cell_type": "code",
   "execution_count": 18,
   "metadata": {},
   "outputs": [],
   "source": [
    "subreddit = 'savedyouaclick'\n",
    "count = 0\n",
    "output = []\n",
    "last_id = \"\"\n",
    "\n",
    "# while count <= 10000:\n",
    "#     try:\n",
    "#         if count == 0:\n",
    "#             r = requests.get('http://www.reddit.com/r/{}.json'.format(subreddit))\n",
    "#         else:\n",
    "#             r = requests.get('http://www.reddit.com/r/{}/.json'.format(subreddit))\n",
    "#         for post in r.json()['data']['children']:\n",
    "#             output.append([post['data'][\"name\"],post['data'][\"url\"],post['data'][\"title\"]])\n",
    "#             last_id = post['data'][\"name\"]\n",
    "#         count += 25\n",
    "#     except:\n",
    "#         print(r)\n",
    "\n",
    "while count <= 5000:\n",
    "    if count == 0:\n",
    "        r = requests.get('http://www.reddit.com/r/{}.json'.format(subreddit),headers={'user-agent': 'savedyouaclick'})\n",
    "    else:\n",
    "        r = requests.get('https://www.reddit.com/r/%s/.json?count=%d&after=%s'%(subreddit,count,last_id),headers={'user-agent': 'savedyouaclick'})\n",
    "    for post in r.json()['data']['children']:\n",
    "        output.append([post['data'][\"name\"],post['data'][\"url\"],post['data'][\"title\"]])\n",
    "        last_id = post['data'][\"name\"]\n",
    "    count += 25        "
   ]
  },
  {
   "cell_type": "code",
   "execution_count": 33,
   "metadata": {},
   "outputs": [],
   "source": [
    "# with open(\"savedyouaclick_20180325.txt\", 'w+', encoding='utf-8') as file:\n",
    "#     for out in output:\n",
    "#         file.write(str(out[0]+out[1]+out[2]))\n",
    "#         file.write(\"\\n\")\n",
    "\n",
    "field = ['id','url','title']\n",
    "\n",
    "df = pd.DataFrame(output, columns = field)\n",
    "\n",
    "df.to_csv(\"savedyouaclick_20180325.csv\")"
   ]
  },
  {
   "cell_type": "markdown",
   "metadata": {},
   "source": [
    "## /r/news"
   ]
  },
  {
   "cell_type": "code",
   "execution_count": 34,
   "metadata": {},
   "outputs": [],
   "source": [
    "subreddit = 'news'\n",
    "count = 0\n",
    "output = []\n",
    "last_id = \"\"\n",
    "\n",
    "# while count <= 10000:\n",
    "#     try:\n",
    "#         if count == 0:\n",
    "#             r = requests.get('http://www.reddit.com/r/{}.json'.format(subreddit))\n",
    "#         else:\n",
    "#             r = requests.get('http://www.reddit.com/r/{}/.json'.format(subreddit))\n",
    "#         for post in r.json()['data']['children']:\n",
    "#             output.append([post['data'][\"name\"],post['data'][\"url\"],post['data'][\"title\"]])\n",
    "#             last_id = post['data'][\"name\"]\n",
    "#         count += 25\n",
    "#     except:\n",
    "#         print(r)\n",
    "\n",
    "while count <= 5000:\n",
    "    if count == 0:\n",
    "        r = requests.get('http://www.reddit.com/r/{}.json'.format(subreddit),headers={'user-agent': 'savedyouaclick'})\n",
    "    else:\n",
    "        r = requests.get('https://www.reddit.com/r/%s/.json?count=%d&after=%s'%(subreddit,count,last_id),headers={'user-agent': 'news'})\n",
    "    for post in r.json()['data']['children']:\n",
    "        output.append([post['data'][\"name\"],post['data'][\"url\"],post['data'][\"title\"]])\n",
    "        last_id = post['data'][\"name\"]\n",
    "    count += 25        \n",
    "    \n",
    "field = ['id','url','title']\n",
    "\n",
    "df = pd.DataFrame(output, columns = field)\n",
    "\n",
    "df.to_csv(\"news_20180325.csv\")"
   ]
  },
  {
   "cell_type": "markdown",
   "metadata": {},
   "source": [
    "## SANDBOX\n",
    "--------------------------------------"
   ]
  },
  {
   "cell_type": "code",
   "execution_count": 3,
   "metadata": {},
   "outputs": [
    {
     "name": "stdout",
     "output_type": "stream",
     "text": [
      "<Response [200]>\n"
     ]
    }
   ],
   "source": [
    "subreddit = 'savedyouaclick'\n",
    "count = 0\n",
    "\n",
    "r = requests.get('http://www.reddit.com/r/{}.json'.format(subreddit))\n",
    "\n",
    "print(r)"
   ]
  },
  {
   "cell_type": "code",
   "execution_count": 10,
   "metadata": {},
   "outputs": [
    {
     "name": "stdout",
     "output_type": "stream",
     "text": [
      "['https://web.archive.org/web/20180325020552/http://money.cnn.com/2018/03/24/technology/facebook-data/index.html', \"I downloaded 14 years of my Facebook data and here's what happened. | Facebook save EVERYTHING that you have on your account, current and deleted information, as well as sharing your contact information with advertisers.\"]\n",
      "['https://web.archive.org/web/20180324142426/https://www.goodnewsnetwork.org/scientists-believe-they-found-a-way-to-stop-future-hurricanes-in-their-tracks/', 'Scientists believe they found a way to stop future hurricanes in their track. | Lower the temperature of the sea to below 26.5 Celsius, by using a ‘bubble curtain’, which are flurry of air bubbles that are released from pipes planted in the ocean, whenever a hurricane was brewing.']\n",
      "['http://archive.is/PAMos', 'The scary truth about what’s hurting our kids | Mobile phones, but cites little data.']\n",
      "['https://web.archive.org/web/20180324225136/https://www.smh.com.au/national/why-i-won-t-be-quitting-facebook-20180323-p4z5yy.html', \"Why I Won't Be Quitting Facebook | She fails to understand that the personal data they aggregate and sell includes information she doesn't voluntarily share about herself\"]\n",
      "['http://deslide.clusterfake.net/?o=html_table&amp;u=https://www.msn.com/en-us/health/voices/i-tried-apple-cider-vinegar-shots-for-30-days%E2%80%94heres-what-happened/ss-BBIqB7P?li=BBnb7Kz&amp;utm_source=fark&amp;utm_medium=website&amp;utm_content=link&amp;ICID=ref_fark', \"I Tried Apple Cider Vinegar Shots For 30 Days—Here's What Happened | Nothing, but I'm going to keep taking it anyway [4 clicks saved]\"]\n",
      "['http://web.archive.org/web/20180325134448/https://www.unilad.co.uk/news/ant-mcpartlin-made-emotional-confession-to-mum-after-crash/', \"Ant McPartlin Made Emotional Confession To Mum After Crash | Admitted to being 'burnt out'\"]\n",
      "['https://archive.fo/WCTEm', 'This is what Bill Gates would tell his teenage self | \"I would explain that smartness is not single dimensional and not quite as important as I thought it was back then. I would say you might explore the developing world before you get into your forties. \" [World Economic Forum]']\n",
      "['https://www.reddit.com/r/savedyouaclick/comments/86veqf/what_life_was_like_50_years_ago_compared_to_now/', 'What Life Was Like 50 Years Ago Compared to Now | List in Post, 50 clicks saved']\n",
      "['https://unv.is/littlethings.com/a-woman-calls-911-to-order-pizza-for-the-most-brilliant-reason', \"A Woman Calls 911 To Order Pizza—For The Most BRILLIANT Reason!! | She fakes a pizza order so her abusive husband doesn't think she's calling for help. The 911 operator eventually figures out what is going on and dispatches police to her address, and the husband is arrested for domestic violence.\"]\n",
      "['https://unv.is/redsharknews.com/production/item/5349-this-could-be-the-best-way-to-get-top-software-without-destroying-your-bank-account#facebook', 'This could be the best way to get top software without destroying your bank account! | Transfer a license by buying secondhand from someone else (should a company allow it), or rent-to-own (assuming you can)']\n",
      "['http://web.archive.org/web/20180323014456/http://www.businessinsider.com/how-to-afford-san-francisco-cost-of-living-2018-3', 'A woman in San Francisco says she gets by on $30,000 a year by having no internet, cable, Netflix, or car | Also her rent is $250']\n",
      "['https://web.archive.org/web/20180323143642/http://www.newsweek.com/stephen-hawking-wanted-humans-leave-earth-heres-why-we-cant-yet-855930', \"Stephen Hawking Wanted Humans to Leave Earth. Here’s Why We Can’t Yet | We don't have the technology or a place to go\"]\n",
      "['https://web.archive.org/web/20180323162242/http://inc-asean.com/technology/researchers-studied-1-67-million-clickbait-headlines-what-they-learned-will-completely-shock-you/?utm_source=inc&amp;utm_medium=redir&amp;utm_campaign=incredir', 'Researchers Studied 1.67 Million Clickbait Headlines. What They Learned Will Completely Shock You. | Both mainstream media and unreliable media often use clickbait, and that it grew in prevalence between 2014 and 2016.']\n",
      "['http://archive.is/WIIIq', 'A birth control pill for men includes a side effect that has frustrated women for decades | Weight gain']\n",
      "['https://web.archive.org/web/20180323143354/https://www.cnn.com/2018/03/22/opinions/why-i-am-marching-for-our-lives-opinion-vargas/index.html', \"Why I'm marching on Saturday ... in a wheelchair | She's paralyzed from the waist down\"]\n",
      "['http://archive.is/6wsLp', 'Why I Quit Facebook and Instagram—and I’m Never Going Back | less procrastination, less FOMO, real friends still get in touch, more sincere invitations, live in the moment']\n",
      "['https://web.archive.org/web/20180323145238/https://news.nationalgeographic.com/2018/03/chile-mummy-ata-alien-dna/', 'Tiny Mummy’s ‘Alien’ Appearance Finally Explained | It was a human infant with growth defects; one UFOlogist disagrees']\n",
      "['http://archive.is/qDMML', \"Quentin Tarantino's 'Star Trek' Movie May Be Inspired by 1 Classic Episode | Yesterday's Enterprise (TNG)\"]\n",
      "['https://web.archive.org/web/20180323145351/http://www.foodandwine.com/news/new-affordable-knife', 'This New, Affordable Chef\\'s Knife Has a Cool Feature We\\'ve Never Seen Before | It has a \"handle that fits perfectly into your hand\"']\n",
      "['http://archive.is/GfdEx', 'Why is a Parkland student barefoot on the ‘Time’ magazine cover? | “I didn’t feel like it.” [USA Today]']\n",
      "['https://web.archive.org/web/20180322134424/https://www.foodnetwork.com/fn-dish/news/2018/3/are-beer-and-potato-chips-the-secret-to-a-long-life-', 'Are Beer and Potato Chips the Secret to a Long Life? | One woman lived to 100 while consuming moderate amounts of beer and chips as well as exercising']\n",
      "['http://archive.today/avkEV', \"Researchers finally solve mystery of 'alien' skeleton | It's human, albeit one with multiple bone disease-associated mutations.\"]\n",
      "['http://archive.is/I2EFw', 'Could We Make the Perfect Energy Source? | Wind power is the best solution right now, but other emerging technologies may change that. [3:47 saved]']\n",
      "['https://web.archive.org/web/20180323050258/https://www.gamespot.com/amp-articles/god-of-war-one-of-ps4-games-coolest-features-was-r/1100-6457602/', \"God Of War: One Of PS4 Game's Coolest Features Was Rejected From The Tomb Raider Reboot | One-shot cinematic camera. In other words, the gameplay to story cut scene back to gameplay is fluid.\"]\n",
      "['http://archive.is/HiOlv', 'Who Is The Most Intelligent Person To Ever Live? | Nobody Knows, IQ tests are unreliable']\n"
     ]
    }
   ],
   "source": [
    "output = []\n",
    "\n",
    "for post in r.json()['data']['children']:\n",
    "    output.append([post['data'][\"url\"],post['data'][\"title\"]])\n",
    "\n",
    "for out in output:\n",
    "    print(out)"
   ]
  },
  {
   "cell_type": "code",
   "execution_count": 17,
   "metadata": {},
   "outputs": [
    {
     "name": "stdout",
     "output_type": "stream",
     "text": [
      "<Response [200]>\n",
      "['https://www.reddit.com/r/savedyouaclick/comments/82gjmt/15_morning_habits_to_boost_your_creativity_all/', '15 Morning Habits to Boost Your Creativity All Day | List in post. 1 click saved (intrusive ads)']\n",
      "['https://www.reddit.com/r/savedyouaclick/comments/82k2ce/the_real_reason_hollywood_wont_cast_lacey_chabert/', \"The Real Reason Hollywood Won't Cast Lacey Chabert Anymore | List in post\"]\n",
      "['http://archive.is/pEh0Q', \"Are Beyoncé And Jay Z Going On A Joint Tour? | We don't know.\"]\n",
      "['http://archive.today/cBpPV', \"Black Mirror Just Got Renewed For A Fifth Season And Here's Everything You Need To Know | All they know is that it’s been renewed for a 5th season.\"]\n",
      "['http://archive.is/ozvZc', \"Symbol hidden in plain sight on Meryl Streep goes unnoticed at the Oscars: accessory viewers didn't see | She wore a Time's Up pin in her hair\"]\n",
      "['https://web.archive.org/web/20180306055118/https://www.topixstars.com/slideshow/19357?utm_source=facebook&amp;utm_campaign=19357&amp;utm_term=K1LHAUC2MARA2AFB', 'The 31 Absolute Worst Bands Of The 1960s | The Beatles, The Stones, The Beach Boys, Bob Dylan, Simon &amp; Garfunkel, Stevie Wonder, CCR, The Grateful Dead, Led Zeppelin, Pink Floyd, thislistis2edgy4u']\n",
      "['https://web.archive.org/web/20180306015004/https://www.huffingtonpost.com/kevin-kruse/millionaires-dont-use-to-do-lists_b_7966024.html', \"Millionaires Don't Use To-Do Lists (They Use This Instead) | A Calendar\"]\n",
      "['http://archive.is/tqPmv', 'The one thing Instagram’s most influential fitness star, 26-year-old Kayla Itsines, will never consume | Alcohol']\n",
      "['http://archive.is/NwmaW', 'We tried chicken tenders from every major fast-food chain — and the winner is obvious | Chick-Fil-A']\n",
      "['http://archive.is/a0oRo', \"5 Reasons Men Cheat | 1) He's morally ok w/ cheating; 2) the woman lets herself go; 3) he's stuck in a sexual desert (e.g. no sex); 4) he's bored; &amp; 5) his relationship is a disaster\"]\n",
      "['https://archive.fo/2Fafu', \"Here's How Much Jimmy Kimmel Got Paid to Host the 2018 Oscars [Video] | $15,000 in 2017, doesn't say how much he got in 2018. As a side note, he's paid $15 million a year to host Jimmy Kimmel Live\"]\n",
      "['https://www.reddit.com/r/savedyouaclick/comments/8206tx/2018_razzie_award_winners_list_in_post_12_clicks/', '2018 Razzie Award winners | List in post, 12 clicks saved']\n",
      "['http://archive.is/hHfZv', \"The CEO of Arby's has begun turning around newly acquired Buffalo Wild Wings with a simple first step | Asking employees around the country what they would do if they were in charge.\"]\n",
      "['https://web.archive.org/web/20180305202429/http://www.digitalspy.com/movies/news/a851544/home-alone-macaulay-culkin-plot-hole-jimmy-fallon/', 'Home Alone star Macaulay Culkin points out one huge plot hole in the movie | Why does Kevin not phone the cops?']\n",
      "['https://web.archive.org/web/20180305132622/https://www.washingtonpost.com/news/monkey-cage/wp/2018/03/05/putin-claims-russia-has-invincible-nuclear-weapons-heres-the-story-behind-this/?utm_term=.f6584f6a643c', \"Putin just bragged about Russia's nuclear weapons. Here's the real story. | The claims are likely domestic political propaganda, not actual weapons which have been created. Regardless, Russia has always had enough nukes to overwhelm US missile defence.\"]\n",
      "['http://archive.is/muKmp', 'Denzel Washington to fight \"The Rock\" and Tom Cruise in Equalizer 2| Equalizer to compete against \"Skyscraper and Mission impossible\" at the box office.']\n",
      "['http://archive.is/j1IFp', 'People Are Furious About What Kim Kardashian Makes Her Kids For Dinner | Hot Dog Sushi']\n",
      "['http://archive.is/xKUC0', 'These pictures from space revealed a HUGE colony of animals no one knew about 😮 | It\\'s a huge colony of penguins. The image is potentially \"large piles of poop\", indicating a massive colony of penguins researches didn\\'t know about.']\n",
      "['http://archive.is/iq6In', 'Big, stupid controversy erupts over Tesla Roadster in space | It adds space junk, is wasteful, is an ego boost for Musk, and is a free car commercial.']\n",
      "['https://web.archive.org/web/20180303175212/http://www.businessinsider.com/why-nasa-has-not-sent-humans-to-mars-2018-2', \"The surprising reason why NASA hasn't sent humans to Mars yet | Money\"]\n",
      "['http://web.archive.org/web/20180305014451/http://www.livingly.com/The+Shortest+Women+In+Hollywood?utm_source=outb&amp;utm_medium=cpc&amp;utm_campaign=Outb-LV-Specials-US-Desktop-RT-CPM5-Shortest-Women-Hollywood&amp;utm_content=Local', 'The Shortest Women in Hollywood | Kristen Chenoweth is 4\\'11\", shortest on this list [25 clicks]']\n",
      "['http://archive.is/OgQvS', 'Samsung just gave you a massive reason NOT to buy the Galaxy S9 | The S9+ has better hardware']\n",
      "['http://archive.is/OkHf6', \"Southwest Airlines Just Announced It's Changing One of Its Most Popular Perks (Oh, Why This?) | Drinks are going from $5 to $6-7\"]\n",
      "['https://web.archive.org/web/20180304014310/https://www.msn.com/en-us/lifestyle/whats-hot/this-simple-brain-hack-will-help-you-learn-a-new-language-much-faster-according-to-science/ar-BBJGn9d', 'This Simple Brain Hack Will Help You Learn a New Language Much Faster, According to Science | Study every night before bedtime, weekends included.']\n",
      "['https://streamable.com/kwusq', 'I Went Scuba Diving in a Zorb Ball &amp; You Have to See What Happened... | Nothing much, at the end he grabbed a knife and made a hole to get out (15 minutes)']\n"
     ]
    }
   ],
   "source": [
    "subreddit = 'savedyouaclick'\n",
    "count = 25\n",
    "last_id = 't3_826tgp'\n",
    "r = requests.get('https://www.reddit.com/r/%s/.json?count=%d&after=%s'%(subreddit,count,last_id),headers={'user-agent': 'savedyouaclick'})\n",
    "print(r)\n",
    "\n",
    "output = []\n",
    "\n",
    "for post in r.json()['data']['children']:\n",
    "    output.append([post['data'][\"url\"],post['data'][\"title\"]])\n",
    "\n",
    "for out in output:\n",
    "    print(out)"
   ]
  },
  {
   "cell_type": "code",
   "execution_count": 16,
   "metadata": {},
   "outputs": [
    {
     "name": "stdout",
     "output_type": "stream",
     "text": [
      "https://www.reddit.com/r/savedyouaclick/.json?count=25&after=t3_826tgp\n"
     ]
    }
   ],
   "source": [
    "print('https://www.reddit.com/r/%s/.json?count=%d&after=%s'%(subreddit,count,last_id))"
   ]
  },
  {
   "cell_type": "code",
   "execution_count": null,
   "metadata": {},
   "outputs": [],
   "source": []
  }
 ],
 "metadata": {
  "kernelspec": {
   "display_name": "Python 3",
   "language": "python",
   "name": "python3"
  },
  "language_info": {
   "codemirror_mode": {
    "name": "ipython",
    "version": 3
   },
   "file_extension": ".py",
   "mimetype": "text/x-python",
   "name": "python",
   "nbconvert_exporter": "python",
   "pygments_lexer": "ipython3",
   "version": "3.6.3"
  }
 },
 "nbformat": 4,
 "nbformat_minor": 2
}
