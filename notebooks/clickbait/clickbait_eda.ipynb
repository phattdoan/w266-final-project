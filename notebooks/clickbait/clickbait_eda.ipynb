{
 "cells": [
  {
   "cell_type": "markdown",
   "metadata": {},
   "source": [
    "# w266 Final Project\n",
    "\n",
    "## Clickbait Classification\n",
    "#### K Iwasaki, Sohad Desai, Phat Doan\n",
    "#### Spring 2018"
   ]
  },
  {
   "cell_type": "markdown",
   "metadata": {},
   "source": [
    "## Setting up Environment"
   ]
  },
  {
   "cell_type": "code",
   "execution_count": 39,
   "metadata": {},
   "outputs": [],
   "source": [
    "%matplotlib inline\n",
    "import numpy as np\n",
    "import pandas as pd\n",
    "from collections import defaultdict\n",
    "import re\n",
    "import sys\n",
    "import os\n",
    "import time\n",
    "import datetime\n",
    "\n",
    "from scipy import stats, integrate\n",
    "import matplotlib.pyplot as plt\n",
    "import seaborn as sns\n",
    "sns.set(color_codes=True)\n",
    "\n",
    "from collections import Counter "
   ]
  },
  {
   "cell_type": "markdown",
   "metadata": {},
   "source": [
    "## Data Preparation"
   ]
  },
  {
   "cell_type": "code",
   "execution_count": 2,
   "metadata": {},
   "outputs": [],
   "source": [
    "URL1 = '../../data/clickbait/clickbait_data'\n",
    "URL2 = '../../data/clickbait/non_clickbait_data'\n",
    "\n",
    "import pandas as pd\n",
    "clickbait = pd.read_csv(URL1, sep=\"\\n\", names=['title'])\n",
    "nonclickbait = pd.read_csv(URL2, sep=\"\\n\", names=['title'])\n",
    "\n",
    "clickbait['category'] = 1\n",
    "nonclickbait['category'] = 0\n",
    "\n",
    "data = pd.concat([clickbait, nonclickbait])\n",
    "\n",
    "data = data.sample(frac=1).reset_index(drop=True)\n",
    "\n",
    "data['idx'] = data.index\n",
    "data['idx'] = data['idx'].map(int)\n",
    "\n",
    "from sklearn.model_selection import train_test_split\n",
    "\n",
    "train, test = train_test_split(data, test_size=0.2, random_state=42)\n",
    "\n",
    "train.to_csv('train.csv', sep='|', index = False)\n",
    "test.to_csv('test.csv', sep='|', index = False)"
   ]
  },
  {
   "cell_type": "markdown",
   "metadata": {},
   "source": [
    "## Helper Functions"
   ]
  },
  {
   "cell_type": "code",
   "execution_count": null,
   "metadata": {},
   "outputs": [],
   "source": [
    "   "
   ]
  },
  {
   "cell_type": "markdown",
   "metadata": {},
   "source": [
    "## EDA"
   ]
  },
  {
   "cell_type": "markdown",
   "metadata": {},
   "source": [
    "*Showing titles*"
   ]
  },
  {
   "cell_type": "code",
   "execution_count": 3,
   "metadata": {},
   "outputs": [
    {
     "data": {
      "text/html": [
       "<div>\n",
       "<style scoped>\n",
       "    .dataframe tbody tr th:only-of-type {\n",
       "        vertical-align: middle;\n",
       "    }\n",
       "\n",
       "    .dataframe tbody tr th {\n",
       "        vertical-align: top;\n",
       "    }\n",
       "\n",
       "    .dataframe thead th {\n",
       "        text-align: right;\n",
       "    }\n",
       "</style>\n",
       "<table border=\"1\" class=\"dataframe\">\n",
       "  <thead>\n",
       "    <tr style=\"text-align: right;\">\n",
       "      <th></th>\n",
       "      <th>title</th>\n",
       "      <th>category</th>\n",
       "    </tr>\n",
       "  </thead>\n",
       "  <tbody>\n",
       "    <tr>\n",
       "      <th>0</th>\n",
       "      <td>Should I Get Bings</td>\n",
       "      <td>1</td>\n",
       "    </tr>\n",
       "    <tr>\n",
       "      <th>1</th>\n",
       "      <td>Which TV Female Friend Group Do You Belong In</td>\n",
       "      <td>1</td>\n",
       "    </tr>\n",
       "    <tr>\n",
       "      <th>2</th>\n",
       "      <td>The New \"Star Wars: The Force Awakens\" Trailer...</td>\n",
       "      <td>1</td>\n",
       "    </tr>\n",
       "    <tr>\n",
       "      <th>3</th>\n",
       "      <td>This Vine Of New York On \"Celebrity Big Brothe...</td>\n",
       "      <td>1</td>\n",
       "    </tr>\n",
       "    <tr>\n",
       "      <th>4</th>\n",
       "      <td>A Couple Did A Stunning Photo Shoot With Their...</td>\n",
       "      <td>1</td>\n",
       "    </tr>\n",
       "  </tbody>\n",
       "</table>\n",
       "</div>"
      ],
      "text/plain": [
       "                                               title  category\n",
       "0                                 Should I Get Bings         1\n",
       "1      Which TV Female Friend Group Do You Belong In         1\n",
       "2  The New \"Star Wars: The Force Awakens\" Trailer...         1\n",
       "3  This Vine Of New York On \"Celebrity Big Brothe...         1\n",
       "4  A Couple Did A Stunning Photo Shoot With Their...         1"
      ]
     },
     "execution_count": 3,
     "metadata": {},
     "output_type": "execute_result"
    }
   ],
   "source": [
    "clickbait.head()"
   ]
  },
  {
   "cell_type": "code",
   "execution_count": 4,
   "metadata": {},
   "outputs": [
    {
     "data": {
      "text/html": [
       "<div>\n",
       "<style scoped>\n",
       "    .dataframe tbody tr th:only-of-type {\n",
       "        vertical-align: middle;\n",
       "    }\n",
       "\n",
       "    .dataframe tbody tr th {\n",
       "        vertical-align: top;\n",
       "    }\n",
       "\n",
       "    .dataframe thead th {\n",
       "        text-align: right;\n",
       "    }\n",
       "</style>\n",
       "<table border=\"1\" class=\"dataframe\">\n",
       "  <thead>\n",
       "    <tr style=\"text-align: right;\">\n",
       "      <th></th>\n",
       "      <th>title</th>\n",
       "      <th>category</th>\n",
       "    </tr>\n",
       "  </thead>\n",
       "  <tbody>\n",
       "    <tr>\n",
       "      <th>0</th>\n",
       "      <td>Bill Changing Credit Card Rules Is Sent to Oba...</td>\n",
       "      <td>0</td>\n",
       "    </tr>\n",
       "    <tr>\n",
       "      <th>1</th>\n",
       "      <td>In Hollywood, the Easy-Money Generation Toughe...</td>\n",
       "      <td>0</td>\n",
       "    </tr>\n",
       "    <tr>\n",
       "      <th>2</th>\n",
       "      <td>1700 runners still unaccounted for in UK's Lak...</td>\n",
       "      <td>0</td>\n",
       "    </tr>\n",
       "    <tr>\n",
       "      <th>3</th>\n",
       "      <td>Yankees Pitchers Trade Fielding Drills for Put...</td>\n",
       "      <td>0</td>\n",
       "    </tr>\n",
       "    <tr>\n",
       "      <th>4</th>\n",
       "      <td>Large earthquake rattles Indonesia; Seventh in...</td>\n",
       "      <td>0</td>\n",
       "    </tr>\n",
       "  </tbody>\n",
       "</table>\n",
       "</div>"
      ],
      "text/plain": [
       "                                               title  category\n",
       "0  Bill Changing Credit Card Rules Is Sent to Oba...         0\n",
       "1  In Hollywood, the Easy-Money Generation Toughe...         0\n",
       "2  1700 runners still unaccounted for in UK's Lak...         0\n",
       "3  Yankees Pitchers Trade Fielding Drills for Put...         0\n",
       "4  Large earthquake rattles Indonesia; Seventh in...         0"
      ]
     },
     "execution_count": 4,
     "metadata": {},
     "output_type": "execute_result"
    }
   ],
   "source": [
    "nonclickbait.head()"
   ]
  },
  {
   "cell_type": "markdown",
   "metadata": {},
   "source": [
    "*Number of clickbaits versus non-clickbaits*"
   ]
  },
  {
   "cell_type": "code",
   "execution_count": 5,
   "metadata": {},
   "outputs": [
    {
     "data": {
      "text/plain": [
       "(15999, 2)"
      ]
     },
     "execution_count": 5,
     "metadata": {},
     "output_type": "execute_result"
    }
   ],
   "source": [
    "clickbait.shape"
   ]
  },
  {
   "cell_type": "code",
   "execution_count": 6,
   "metadata": {},
   "outputs": [
    {
     "data": {
      "text/plain": [
       "(16001, 2)"
      ]
     },
     "execution_count": 6,
     "metadata": {},
     "output_type": "execute_result"
    }
   ],
   "source": [
    "nonclickbait.shape"
   ]
  },
  {
   "cell_type": "markdown",
   "metadata": {},
   "source": [
    "*Length per title*"
   ]
  },
  {
   "cell_type": "code",
   "execution_count": 10,
   "metadata": {},
   "outputs": [
    {
     "data": {
      "text/html": [
       "<div>\n",
       "<style scoped>\n",
       "    .dataframe tbody tr th:only-of-type {\n",
       "        vertical-align: middle;\n",
       "    }\n",
       "\n",
       "    .dataframe tbody tr th {\n",
       "        vertical-align: top;\n",
       "    }\n",
       "\n",
       "    .dataframe thead th {\n",
       "        text-align: right;\n",
       "    }\n",
       "</style>\n",
       "<table border=\"1\" class=\"dataframe\">\n",
       "  <thead>\n",
       "    <tr style=\"text-align: right;\">\n",
       "      <th></th>\n",
       "      <th>title</th>\n",
       "      <th>category</th>\n",
       "      <th>title_length</th>\n",
       "    </tr>\n",
       "  </thead>\n",
       "  <tbody>\n",
       "    <tr>\n",
       "      <th>0</th>\n",
       "      <td>Should I Get Bings</td>\n",
       "      <td>1</td>\n",
       "      <td>18</td>\n",
       "    </tr>\n",
       "    <tr>\n",
       "      <th>1</th>\n",
       "      <td>Which TV Female Friend Group Do You Belong In</td>\n",
       "      <td>1</td>\n",
       "      <td>45</td>\n",
       "    </tr>\n",
       "    <tr>\n",
       "      <th>2</th>\n",
       "      <td>The New \"Star Wars: The Force Awakens\" Trailer...</td>\n",
       "      <td>1</td>\n",
       "      <td>73</td>\n",
       "    </tr>\n",
       "    <tr>\n",
       "      <th>3</th>\n",
       "      <td>This Vine Of New York On \"Celebrity Big Brothe...</td>\n",
       "      <td>1</td>\n",
       "      <td>67</td>\n",
       "    </tr>\n",
       "    <tr>\n",
       "      <th>4</th>\n",
       "      <td>A Couple Did A Stunning Photo Shoot With Their...</td>\n",
       "      <td>1</td>\n",
       "      <td>100</td>\n",
       "    </tr>\n",
       "  </tbody>\n",
       "</table>\n",
       "</div>"
      ],
      "text/plain": [
       "                                               title  category  title_length\n",
       "0                                 Should I Get Bings         1            18\n",
       "1      Which TV Female Friend Group Do You Belong In         1            45\n",
       "2  The New \"Star Wars: The Force Awakens\" Trailer...         1            73\n",
       "3  This Vine Of New York On \"Celebrity Big Brothe...         1            67\n",
       "4  A Couple Did A Stunning Photo Shoot With Their...         1           100"
      ]
     },
     "execution_count": 10,
     "metadata": {},
     "output_type": "execute_result"
    }
   ],
   "source": [
    "clickbait['title_length'] = clickbait.apply(lambda row: len(row['title']), axis=1)\n",
    "clickbait.head()"
   ]
  },
  {
   "cell_type": "code",
   "execution_count": 11,
   "metadata": {},
   "outputs": [
    {
     "data": {
      "text/html": [
       "<div>\n",
       "<style scoped>\n",
       "    .dataframe tbody tr th:only-of-type {\n",
       "        vertical-align: middle;\n",
       "    }\n",
       "\n",
       "    .dataframe tbody tr th {\n",
       "        vertical-align: top;\n",
       "    }\n",
       "\n",
       "    .dataframe thead th {\n",
       "        text-align: right;\n",
       "    }\n",
       "</style>\n",
       "<table border=\"1\" class=\"dataframe\">\n",
       "  <thead>\n",
       "    <tr style=\"text-align: right;\">\n",
       "      <th></th>\n",
       "      <th>title</th>\n",
       "      <th>category</th>\n",
       "      <th>title_length</th>\n",
       "    </tr>\n",
       "  </thead>\n",
       "  <tbody>\n",
       "    <tr>\n",
       "      <th>0</th>\n",
       "      <td>Bill Changing Credit Card Rules Is Sent to Oba...</td>\n",
       "      <td>0</td>\n",
       "      <td>74</td>\n",
       "    </tr>\n",
       "    <tr>\n",
       "      <th>1</th>\n",
       "      <td>In Hollywood, the Easy-Money Generation Toughe...</td>\n",
       "      <td>0</td>\n",
       "      <td>51</td>\n",
       "    </tr>\n",
       "    <tr>\n",
       "      <th>2</th>\n",
       "      <td>1700 runners still unaccounted for in UK's Lak...</td>\n",
       "      <td>0</td>\n",
       "      <td>72</td>\n",
       "    </tr>\n",
       "    <tr>\n",
       "      <th>3</th>\n",
       "      <td>Yankees Pitchers Trade Fielding Drills for Put...</td>\n",
       "      <td>0</td>\n",
       "      <td>59</td>\n",
       "    </tr>\n",
       "    <tr>\n",
       "      <th>4</th>\n",
       "      <td>Large earthquake rattles Indonesia; Seventh in...</td>\n",
       "      <td>0</td>\n",
       "      <td>55</td>\n",
       "    </tr>\n",
       "  </tbody>\n",
       "</table>\n",
       "</div>"
      ],
      "text/plain": [
       "                                               title  category  title_length\n",
       "0  Bill Changing Credit Card Rules Is Sent to Oba...         0            74\n",
       "1  In Hollywood, the Easy-Money Generation Toughe...         0            51\n",
       "2  1700 runners still unaccounted for in UK's Lak...         0            72\n",
       "3  Yankees Pitchers Trade Fielding Drills for Put...         0            59\n",
       "4  Large earthquake rattles Indonesia; Seventh in...         0            55"
      ]
     },
     "execution_count": 11,
     "metadata": {},
     "output_type": "execute_result"
    }
   ],
   "source": [
    "nonclickbait['title_length'] = nonclickbait.apply(lambda row: len(row['title']), axis=1)\n",
    "nonclickbait.head()"
   ]
  },
  {
   "cell_type": "code",
   "execution_count": 30,
   "metadata": {},
   "outputs": [
    {
     "data": {
      "text/plain": [
       "<matplotlib.legend.Legend at 0x286d51d2e80>"
      ]
     },
     "execution_count": 30,
     "metadata": {},
     "output_type": "execute_result"
    },
    {
     "data": {
      "image/png": "[encoded data removed]",
      "text/plain": [
       "<matplotlib.figure.Figure at 0x286d565a0f0>"
      ]
     },
     "metadata": {},
     "output_type": "display_data"
    }
   ],
   "source": [
    "sns.kdeplot(clickbait['title_length'], bw=2, label=\"Clickbait Title Length\")\n",
    "sns.kdeplot(nonclickbait['title_length'], bw=2, label=\"Non-Clickbait Title Length\")\n",
    "plt.xlabel('Character Length')\n",
    "plt.ylabel('Frequency')\n",
    "plt.legend()"
   ]
  },
  {
   "cell_type": "markdown",
   "metadata": {},
   "source": [
    "*Number of words per title*"
   ]
  },
  {
   "cell_type": "code",
   "execution_count": 26,
   "metadata": {},
   "outputs": [
    {
     "name": "stdout",
     "output_type": "stream",
     "text": [
      "2\n"
     ]
    }
   ],
   "source": [
    "def word_count(string):\n",
    "    words = string.strip().split(\" \")\n",
    "    return len(words)\n",
    "\n",
    "print(word_count(\"hello world\"))"
   ]
  },
  {
   "cell_type": "code",
   "execution_count": 27,
   "metadata": {},
   "outputs": [
    {
     "data": {
      "text/html": [
       "<div>\n",
       "<style scoped>\n",
       "    .dataframe tbody tr th:only-of-type {\n",
       "        vertical-align: middle;\n",
       "    }\n",
       "\n",
       "    .dataframe tbody tr th {\n",
       "        vertical-align: top;\n",
       "    }\n",
       "\n",
       "    .dataframe thead th {\n",
       "        text-align: right;\n",
       "    }\n",
       "</style>\n",
       "<table border=\"1\" class=\"dataframe\">\n",
       "  <thead>\n",
       "    <tr style=\"text-align: right;\">\n",
       "      <th></th>\n",
       "      <th>title</th>\n",
       "      <th>category</th>\n",
       "      <th>title_length</th>\n",
       "      <th>title_words</th>\n",
       "    </tr>\n",
       "  </thead>\n",
       "  <tbody>\n",
       "    <tr>\n",
       "      <th>0</th>\n",
       "      <td>Should I Get Bings</td>\n",
       "      <td>1</td>\n",
       "      <td>18</td>\n",
       "      <td>4</td>\n",
       "    </tr>\n",
       "    <tr>\n",
       "      <th>1</th>\n",
       "      <td>Which TV Female Friend Group Do You Belong In</td>\n",
       "      <td>1</td>\n",
       "      <td>45</td>\n",
       "      <td>9</td>\n",
       "    </tr>\n",
       "    <tr>\n",
       "      <th>2</th>\n",
       "      <td>The New \"Star Wars: The Force Awakens\" Trailer...</td>\n",
       "      <td>1</td>\n",
       "      <td>73</td>\n",
       "      <td>14</td>\n",
       "    </tr>\n",
       "    <tr>\n",
       "      <th>3</th>\n",
       "      <td>This Vine Of New York On \"Celebrity Big Brothe...</td>\n",
       "      <td>1</td>\n",
       "      <td>67</td>\n",
       "      <td>12</td>\n",
       "    </tr>\n",
       "    <tr>\n",
       "      <th>4</th>\n",
       "      <td>A Couple Did A Stunning Photo Shoot With Their...</td>\n",
       "      <td>1</td>\n",
       "      <td>100</td>\n",
       "      <td>18</td>\n",
       "    </tr>\n",
       "  </tbody>\n",
       "</table>\n",
       "</div>"
      ],
      "text/plain": [
       "                                               title  category  title_length  \\\n",
       "0                                 Should I Get Bings         1            18   \n",
       "1      Which TV Female Friend Group Do You Belong In         1            45   \n",
       "2  The New \"Star Wars: The Force Awakens\" Trailer...         1            73   \n",
       "3  This Vine Of New York On \"Celebrity Big Brothe...         1            67   \n",
       "4  A Couple Did A Stunning Photo Shoot With Their...         1           100   \n",
       "\n",
       "   title_words  \n",
       "0            4  \n",
       "1            9  \n",
       "2           14  \n",
       "3           12  \n",
       "4           18  "
      ]
     },
     "execution_count": 27,
     "metadata": {},
     "output_type": "execute_result"
    }
   ],
   "source": [
    "clickbait['title_words'] = clickbait.apply(lambda row: word_count(row['title']), axis=1)\n",
    "clickbait.head()"
   ]
  },
  {
   "cell_type": "code",
   "execution_count": 28,
   "metadata": {},
   "outputs": [
    {
     "data": {
      "text/html": [
       "<div>\n",
       "<style scoped>\n",
       "    .dataframe tbody tr th:only-of-type {\n",
       "        vertical-align: middle;\n",
       "    }\n",
       "\n",
       "    .dataframe tbody tr th {\n",
       "        vertical-align: top;\n",
       "    }\n",
       "\n",
       "    .dataframe thead th {\n",
       "        text-align: right;\n",
       "    }\n",
       "</style>\n",
       "<table border=\"1\" class=\"dataframe\">\n",
       "  <thead>\n",
       "    <tr style=\"text-align: right;\">\n",
       "      <th></th>\n",
       "      <th>title</th>\n",
       "      <th>category</th>\n",
       "      <th>title_length</th>\n",
       "      <th>title_words</th>\n",
       "    </tr>\n",
       "  </thead>\n",
       "  <tbody>\n",
       "    <tr>\n",
       "      <th>0</th>\n",
       "      <td>Bill Changing Credit Card Rules Is Sent to Oba...</td>\n",
       "      <td>0</td>\n",
       "      <td>74</td>\n",
       "      <td>13</td>\n",
       "    </tr>\n",
       "    <tr>\n",
       "      <th>1</th>\n",
       "      <td>In Hollywood, the Easy-Money Generation Toughe...</td>\n",
       "      <td>0</td>\n",
       "      <td>51</td>\n",
       "      <td>7</td>\n",
       "    </tr>\n",
       "    <tr>\n",
       "      <th>2</th>\n",
       "      <td>1700 runners still unaccounted for in UK's Lak...</td>\n",
       "      <td>0</td>\n",
       "      <td>72</td>\n",
       "      <td>11</td>\n",
       "    </tr>\n",
       "    <tr>\n",
       "      <th>3</th>\n",
       "      <td>Yankees Pitchers Trade Fielding Drills for Put...</td>\n",
       "      <td>0</td>\n",
       "      <td>59</td>\n",
       "      <td>8</td>\n",
       "    </tr>\n",
       "    <tr>\n",
       "      <th>4</th>\n",
       "      <td>Large earthquake rattles Indonesia; Seventh in...</td>\n",
       "      <td>0</td>\n",
       "      <td>55</td>\n",
       "      <td>8</td>\n",
       "    </tr>\n",
       "  </tbody>\n",
       "</table>\n",
       "</div>"
      ],
      "text/plain": [
       "                                               title  category  title_length  \\\n",
       "0  Bill Changing Credit Card Rules Is Sent to Oba...         0            74   \n",
       "1  In Hollywood, the Easy-Money Generation Toughe...         0            51   \n",
       "2  1700 runners still unaccounted for in UK's Lak...         0            72   \n",
       "3  Yankees Pitchers Trade Fielding Drills for Put...         0            59   \n",
       "4  Large earthquake rattles Indonesia; Seventh in...         0            55   \n",
       "\n",
       "   title_words  \n",
       "0           13  \n",
       "1            7  \n",
       "2           11  \n",
       "3            8  \n",
       "4            8  "
      ]
     },
     "execution_count": 28,
     "metadata": {},
     "output_type": "execute_result"
    }
   ],
   "source": [
    "nonclickbait['title_words'] = nonclickbait.apply(lambda row: word_count(row['title']), axis=1)\n",
    "nonclickbait.head()"
   ]
  },
  {
   "cell_type": "code",
   "execution_count": 31,
   "metadata": {},
   "outputs": [
    {
     "data": {
      "text/plain": [
       "<matplotlib.legend.Legend at 0x286d5747780>"
      ]
     },
     "execution_count": 31,
     "metadata": {},
     "output_type": "execute_result"
    },
    {
     "data": {
      "image/png": "[encoded data removed]",
      "text/plain": [
       "<matplotlib.figure.Figure at 0x286d59e0f60>"
      ]
     },
     "metadata": {},
     "output_type": "display_data"
    }
   ],
   "source": [
    "sns.kdeplot(clickbait['title_words'], bw=2, label=\"Clickbait Title: Number of Words\")\n",
    "sns.kdeplot(nonclickbait['title_words'], bw=2, label=\"Non-Clickbait: Number of Words\")\n",
    "plt.xlabel('Number of Words')\n",
    "plt.ylabel('Frequency')\n",
    "plt.legend()"
   ]
  },
  {
   "cell_type": "markdown",
   "metadata": {},
   "source": [
    "*Top 25 most common words *"
   ]
  },
  {
   "cell_type": "code",
   "execution_count": 42,
   "metadata": {},
   "outputs": [
    {
     "data": {
      "text/plain": [
       "[('You', 4805),\n",
       " ('The', 4723),\n",
       " ('To', 3231),\n",
       " ('A', 2600),\n",
       " ('Your', 2536),\n",
       " ('Of', 2422),\n",
       " ('Are', 1938),\n",
       " ('In', 1910),\n",
       " ('This', 1804),\n",
       " ('That', 1776),\n",
       " ('And', 1639),\n",
       " ('Is', 1624),\n",
       " ('On', 1449),\n",
       " ('For', 1393),\n",
       " ('Will', 1242),\n",
       " ('What', 1123),\n",
       " ('About', 1052),\n",
       " ('Things', 995),\n",
       " ('With', 958),\n",
       " ('Who', 946),\n",
       " ('People', 909),\n",
       " ('How', 899),\n",
       " ('Which', 893),\n",
       " ('From', 825),\n",
       " ('We', 806)]"
      ]
     },
     "execution_count": 42,
     "metadata": {},
     "output_type": "execute_result"
    }
   ],
   "source": [
    "clickbait_words = {}\n",
    "for idx, row in clickbait.iterrows():\n",
    "    words = row['title'].strip().split(\" \")\n",
    "    for word in words:\n",
    "        if word not in clickbait_words:\n",
    "            clickbait_words[word] = 1\n",
    "        else:\n",
    "            clickbait_words[word] += 1\n",
    "            \n",
    "Counter(clickbait_words).most_common(25)"
   ]
  },
  {
   "cell_type": "code",
   "execution_count": 43,
   "metadata": {},
   "outputs": [
    {
     "data": {
      "text/plain": [
       "[('in', 4354),\n",
       " ('to', 3394),\n",
       " ('of', 2662),\n",
       " ('for', 1691),\n",
       " ('the', 1246),\n",
       " ('on', 1236),\n",
       " ('and', 1165),\n",
       " ('a', 1118),\n",
       " ('at', 955),\n",
       " ('New', 607),\n",
       " ('US', 596),\n",
       " ('by', 532),\n",
       " ('U.S.', 523),\n",
       " ('after', 512),\n",
       " ('as', 474),\n",
       " ('Is', 414),\n",
       " ('from', 345),\n",
       " ('with', 344),\n",
       " ('dies', 336),\n",
       " ('With', 306),\n",
       " ('over', 297),\n",
       " ('dead', 294),\n",
       " ('killed', 289),\n",
       " ('UK', 282),\n",
       " ('Australian', 270)]"
      ]
     },
     "execution_count": 43,
     "metadata": {},
     "output_type": "execute_result"
    }
   ],
   "source": [
    "nonclickbait_words = {}\n",
    "for idx, row in nonclickbait.iterrows():\n",
    "    words = row['title'].strip().split(\" \")\n",
    "    for word in words:\n",
    "        if word not in nonclickbait_words:\n",
    "            nonclickbait_words[word] = 1\n",
    "        else:\n",
    "            nonclickbait_words[word] += 1\n",
    "            \n",
    "Counter(nonclickbait_words).most_common(25)"
   ]
  },
  {
   "cell_type": "markdown",
   "metadata": {},
   "source": [
    "*Top punctuations*"
   ]
  },
  {
   "cell_type": "code",
   "execution_count": 44,
   "metadata": {},
   "outputs": [
    {
     "data": {
      "text/plain": [
       "[(' ', 143074),\n",
       " ('\"', 4751),\n",
       " (\"'\", 4198),\n",
       " ('-', 1151),\n",
       " (',', 737),\n",
       " ('.', 390),\n",
       " (':', 362),\n",
       " ('(', 59),\n",
       " (')', 59),\n",
       " ('#', 57),\n",
       " ('$', 57),\n",
       " ('&', 49),\n",
       " ('?', 43),\n",
       " ('!', 32),\n",
       " ('*', 29),\n",
       " ('%', 27),\n",
       " ('/', 21),\n",
       " ('~', 20),\n",
       " ('@', 6),\n",
       " ('+', 5),\n",
       " ('|', 5),\n",
       " ('=', 2),\n",
       " (';', 2),\n",
       " ('[', 1),\n",
       " (']', 1)]"
      ]
     },
     "execution_count": 44,
     "metadata": {},
     "output_type": "execute_result"
    }
   ],
   "source": [
    "clickbait_punctuations = {}\n",
    "for idx, row in clickbait.iterrows():\n",
    "    for char in str(row['title']):\n",
    "        if char.isalnum() == False:\n",
    "            if char not in clickbait_punctuations:\n",
    "                clickbait_punctuations[char] = 1\n",
    "            else:\n",
    "                clickbait_punctuations[char] += 1\n",
    "            \n",
    "Counter(clickbait_punctuations).most_common(25)"
   ]
  },
  {
   "cell_type": "code",
   "execution_count": 45,
   "metadata": {},
   "outputs": [
    {
     "data": {
      "text/plain": [
       "[(' ', 115127),\n",
       " (',', 3504),\n",
       " ('.', 2687),\n",
       " (\"'\", 1671),\n",
       " ('-', 1604),\n",
       " (':', 711),\n",
       " ('\"', 390),\n",
       " (';', 228),\n",
       " ('$', 202),\n",
       " ('?', 119),\n",
       " ('%', 117),\n",
       " ('/', 60),\n",
       " ('&', 50),\n",
       " ('’', 38),\n",
       " ('(', 32),\n",
       " (')', 32),\n",
       " ('£', 22),\n",
       " ('–', 20),\n",
       " ('—', 16),\n",
       " ('€', 10),\n",
       " ('‘', 9),\n",
       " ('!', 8),\n",
       " ('+', 5),\n",
       " ('“', 2),\n",
       " ('”', 2)]"
      ]
     },
     "execution_count": 45,
     "metadata": {},
     "output_type": "execute_result"
    }
   ],
   "source": [
    "nonclickbait_punctuations = {}\n",
    "for idx, row in nonclickbait.iterrows():\n",
    "    for char in str(row['title']):\n",
    "        if char.isalnum() == False:\n",
    "            if char not in nonclickbait_punctuations:\n",
    "                nonclickbait_punctuations[char] = 1\n",
    "            else:\n",
    "                nonclickbait_punctuations[char] += 1\n",
    "            \n",
    "Counter(nonclickbait_punctuations).most_common(25)"
   ]
  },
  {
   "cell_type": "code",
   "execution_count": null,
   "metadata": {},
   "outputs": [],
   "source": []
  }
 ],
 "metadata": {
  "kernelspec": {
   "display_name": "Python 3",
   "language": "python",
   "name": "python3"
  },
  "language_info": {
   "codemirror_mode": {
    "name": "ipython",
    "version": 3
   },
   "file_extension": ".py",
   "mimetype": "text/x-python",
   "name": "python",
   "nbconvert_exporter": "python",
   "pygments_lexer": "ipython3",
   "version": "3.6.3"
  }
 },
 "nbformat": 4,
 "nbformat_minor": 2
}
