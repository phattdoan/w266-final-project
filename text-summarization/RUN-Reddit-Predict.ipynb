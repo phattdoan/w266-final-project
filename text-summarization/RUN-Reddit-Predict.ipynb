{
 "cells": [
  {
   "cell_type": "markdown",
   "metadata": {},
   "source": [
    "# Run reddit predict"
   ]
  },
  {
   "cell_type": "markdown",
   "metadata": {},
   "source": [
    "## Non-clickbait"
   ]
  },
  {
   "cell_type": "code",
   "execution_count": 30,
   "metadata": {},
   "outputs": [
    {
     "name": "stdout",
     "output_type": "stream",
     "text": [
      "loading csv file ...\n",
      "start predicting ...\n",
      "0\n",
      "Original Headline:  Rick Santorum to Student Activists: Don’t March, Learn CPR\n",
      "Generated Headline:  donald trump is still want the right to the republican party in a state of democrats — for his campaign\n",
      "-------------------------------------\n",
      "1\n",
      "Original Headline:  Jehovah's Witnesses accused of silencing victims of child abuse\n",
      "Generated Headline:  why you need to elect hillary clinton emails\n",
      "-------------------------------------\n",
      "2\n",
      "Original Headline:  US Army veteran who served two tours in Afghanistan has been deported to Mexico\n",
      "Generated Headline:  john 6 in shooting – how you is it out for all\n",
      "-------------------------------------\n",
      "3\n",
      "Original Headline:  Man sucker punches 5-year-old in face on New York City subway: cops\n",
      "Generated Headline:  texas who exposes an china of u.s. elections – her with her her\n",
      "-------------------------------------\n",
      "4\n",
      "Original Headline:  The Mormon Church Must Learn from #MeToo\n",
      "Generated Headline:  comment on facebook to vote trump by the truth of the most important - the onion - america's finest news source\n",
      "-------------------------------------\n",
      "5\n",
      "Original Headline:  Congress gives police in other countries easier access to U.S. data, raising privacy concerns\n",
      "Generated Headline:  obama administration reportedly say running between with clinton claims\n",
      "-------------------------------------\n",
      "6\n",
      "Original Headline:  Daylight Saving Time Could Soon Be Year-Round in Florida\n",
      "Generated Headline:  is the war in the us and no one kills in the 6 of hillary\n",
      "-------------------------------------\n",
      "7\n",
      "Original Headline:  Americans less likely to trust Facebook than rivals on personal data\n",
      "Generated Headline:  why you want a big states to get this and trump and the size of the union court in the new\n",
      "-------------------------------------\n",
      "8\n",
      "Original Headline:  Iranian hackers attacked college professors, US agencies and companies: Justice Department\n",
      "Generated Headline:  police are russia from u.s. of\n",
      "-------------------------------------\n",
      "9\n",
      "Original Headline:  Huawei dealt a blow, loses Best Buy as retail partner\n",
      "Generated Headline:  russia and america is the democratic of the history\n",
      "-------------------------------------\n",
      "Total time: 2.085897207260132\n"
     ]
    }
   ],
   "source": [
    "import time\n",
    "\n",
    "t0 = time.time()\n",
    "%run demo/seq2seq_predict_reddit_nonclickbait.py\n",
    "t1 = time.time()\n",
    "\n",
    "total = t1-t0\n",
    "print (\"Total time:\", total)"
   ]
  },
  {
   "cell_type": "markdown",
   "metadata": {},
   "source": [
    "## Clickbait"
   ]
  },
  {
   "cell_type": "code",
   "execution_count": 31,
   "metadata": {},
   "outputs": [
    {
     "name": "stdout",
     "output_type": "stream",
     "text": [
      "loading csv file ...\n",
      "start predicting ...\n",
      "0\n",
      "Original Headline:  I downloaded 14 years of my Facebook data and here's what happened\n",
      "Generated Headline:  the daily 202: why i think clinton’s is no one of a political and\n",
      "-------------------------------------\n",
      "1\n",
      "Original Headline:  This is what Bill Gates would tell his teenage self\n",
      "Generated Headline:  why we are the white house has a lot about to republicans with senate\n",
      "-------------------------------------\n",
      "2\n",
      "Original Headline:  RedShark News - This could be the best way to get top software without destroying your bank account!\n",
      "Generated Headline:  is not be be in the world – no one wants to be your by\n",
      "-------------------------------------\n",
      "3\n",
      "Original Headline:  Tiny Mummy’s ‘Alien’ Appearance Finally Explained\n",
      "Generated Headline:  the daily 202: here is not the trump and this is it\n",
      "-------------------------------------\n",
      "4\n",
      "Original Headline:  A student was suspended after staying in class and not walking out.\n",
      "Generated Headline:  comment on on abortion and russia makes the boston with to hit isis\n",
      "-------------------------------------\n",
      "5\n",
      "Original Headline:  A Woman Calls 911 To Order Pizza—For The Most BRILLIANT Reason!!\n",
      "Generated Headline:  a man between trump and it’s\n",
      "-------------------------------------\n",
      "6\n",
      "Original Headline:  Ant McPartlin Made Emotional Confession To Mum After Crash\n",
      "Generated Headline:  what is the future of how and its own\n",
      "-------------------------------------\n",
      "7\n",
      "Original Headline:  5 Reasons To NOT Vaccinate Your Kids\n",
      "Generated Headline:  the man of the truth about the most free have to stop - the onion - america's finest news source\n",
      "-------------------------------------\n",
      "8\n",
      "Original Headline:  Former Trump aide says president 'may have done something illegal'\n",
      "Generated Headline:  trump says he was a chicago of state and hillary\n",
      "-------------------------------------\n",
      "9\n",
      "Original Headline:  Melania Trump: Plan to Divorce Donald Revealed?!\n",
      "Generated Headline:  donald trump said he was the right about the 2016 than a foreign policy\n",
      "-------------------------------------\n",
      "Total time: 2.276864528656006\n"
     ]
    }
   ],
   "source": [
    "import time\n",
    "\n",
    "t0 = time.time()\n",
    "%run demo/seq2seq_predict_reddit_clickbait.py\n",
    "t1 = time.time()\n",
    "\n",
    "total = t1-t0\n",
    "print (\"Total time:\", total)"
   ]
  },
  {
   "cell_type": "markdown",
   "metadata": {},
   "source": [
    "## Score"
   ]
  },
  {
   "cell_type": "code",
   "execution_count": 1,
   "metadata": {
    "scrolled": false
   },
   "outputs": [
    {
     "name": "stdout",
     "output_type": "stream",
     "text": [
      "0.0301973834223185\n"
     ]
    },
    {
     "name": "stderr",
     "output_type": "stream",
     "text": [
      "c:\\users\\phatt\\appdata\\local\\continuum\\anaconda3\\lib\\site-packages\\nltk\\translate\\bleu_score.py:490: UserWarning: \n",
      "Corpus/Sentence contains 0 counts of 3-gram overlaps.\n",
      "BLEU scores might be undesirable; use SmoothingFunction().\n",
      "  warnings.warn(_msg)\n"
     ]
    }
   ],
   "source": [
    "# very short\n",
    "from nltk.translate.bleu_score import sentence_bleu\n",
    "reference = [['the', 'quick', 'brown', 'fox', 'jumped', 'over', 'the', 'lazy', 'dog']]\n",
    "candidate = ['the', 'quick']\n",
    "score = sentence_bleu(reference, candidate)\n",
    "print(score)"
   ]
  },
  {
   "cell_type": "code",
   "execution_count": null,
   "metadata": {},
   "outputs": [],
   "source": [
    "Generated Headline:  the u.s. of america in us election\n",
    "Original Headline:  The Wild Ideas You Missed While Donald Trump Was Talking\n",
    "Generated Headline:  global warming between house — lawmakers on immigration deal\n",
    "Original Headline:  Live from New Hampshire: They’re all here\n",
    "Generated Headline:  comment on china have no when when when asked about how the people by this this time\n",
    "Original Headline:  UK Child Protection Services workers are ‘afraid’ to challenge the ages of Muslim invaders for fear of ending up in court\n",
    "Generated Headline:  trump camp up up to block against trump of hillary\n",
    "Original Headline:  Desperate Trump Supporter Offers Voters Discount On Horse Semen If They Vote Trump\n",
    "Generated Headline:  comment on if you want what trump want by hillary clinton email investigation by the economy by russia has you\n",
    "Original Headline:  Even If You Hate Trump, What this Leftist Just Did Is VILE... | The Federalist Papers\n",
    "Generated Headline:  breaking : hillary clinton in rachel with fbi for fbi – – truthfeed\n",
    "Original Headline:  VIDEO : Black Professor, “Black Voters Are Breaking For Trump”\n",
    "Generated Headline:  breaking: who is rare to see with white house\n",
    "Original Headline:  (The Onion) Strongside/Weakside: Theo Epstein\n",
    "Generated Headline:  why can't drop for win for trump\n",
    "Original Headline:  Syria's war: How did we get here?\n",
    "Generated Headline:  trump says up while president of hillary\n",
    "Original Headline:  HA HA! Look At Arkansas Today Trump +28\n",
    "Generated Headline:  obama says first candidate emails up up white house\n",
    "Original Headline:  Bad idea: Shell’s gearing up to start drilling in the Arctic again\n",
    "Generated Headline:  a reader reader says york is not how to the most of become party are\n",
    "Original Headline:  Southern Poverty Law Center Targets Anti-Jihad Crusaders (Ann Corcoran Honored!)\n",
    "Generated Headline:  the most of america are an of president – a a good\n",
    "Original Headline:  Comment on Due Process is Dead: A Staggering 95% of All Inmates in America Have Never Received a Trial by Raymond Karczewski\n",
    "Generated Headline:  black lives matter with black lives matter\n",
    "Original Headline:  We told you so! The Zika virus is harmless\n",
    "Generated Headline:  why the best might be a trump for her war\n",
    "Original Headline:  Donald Trump wasn’t so anti-Iraq war after all. Quelle surprise.\n",
    "Generated Headline:  isis is not mosul from mosul to a new york after the middle east in the middle east\n",
    "Original Headline:  Andrew Maguire – Paper Gold Market Trades Jaw-Dropping 6,800 Tonnes In One Day!\n",
    "Generated Headline:  baltimore report\n",
    "Original Headline:  House Republicans say IRS should blame itself for rough tax season\n",
    "Generated Headline:  u.s. of black american should have no one for standing\n",
    "Original Headline:  What happened in this election?\n",
    "Generated Headline:  us violence from us troops to hit in federal\n",
    "Original Headline:  Islamic State claims responsibility for the Brussels attacks\n",
    "Generated Headline:  will face vote toward\n",
    "Original Headline:  Tehran, USA\n",
    "Generated Headline:  obama says loretta lynch becomes white house\n",
    "Original Headline:  We can't reward Hillary Clinton with the White House for breaking all the rules"
   ]
  },
  {
   "cell_type": "code",
   "execution_count": 9,
   "metadata": {},
   "outputs": [
    {
     "name": "stdout",
     "output_type": "stream",
     "text": [
      "0\n"
     ]
    }
   ],
   "source": [
    "s_reference = \"the u.s. of america in us election\"\n",
    "s_candidate = \"The Wild Ideas You Missed While Donald Trump Was Talking\"\n",
    "# s_reference = \"the quick brown fox jump\"\n",
    "# s_candidate = \"the quick brown fox\"\n",
    "score = sentence_bleu([s_reference.split()], s_candidate.split())\n",
    "print(score)"
   ]
  },
  {
   "cell_type": "code",
   "execution_count": null,
   "metadata": {},
   "outputs": [],
   "source": []
  }
 ],
 "metadata": {
  "kernelspec": {
   "display_name": "Python 3",
   "language": "python",
   "name": "python3"
  },
  "language_info": {
   "codemirror_mode": {
    "name": "ipython",
    "version": 3
   },
   "file_extension": ".py",
   "mimetype": "text/x-python",
   "name": "python",
   "nbconvert_exporter": "python",
   "pygments_lexer": "ipython3",
   "version": "3.6.3"
  }
 },
 "nbformat": 4,
 "nbformat_minor": 2
}
