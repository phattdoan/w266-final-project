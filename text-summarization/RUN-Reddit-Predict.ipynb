{
 "cells": [
  {
   "cell_type": "markdown",
   "metadata": {},
   "source": [
    "# Run reddit predict"
   ]
  },
  {
   "cell_type": "markdown",
   "metadata": {},
   "source": [
    "## Non-clickbait"
   ]
  },
  {
   "cell_type": "code",
   "execution_count": 3,
   "metadata": {},
   "outputs": [
    {
     "name": "stdout",
     "output_type": "stream",
     "text": [
      "loading csv file ...\n",
      "start predicting ...\n",
      "0\n",
      "Original Headline:  Rick Santorum to Student Activists: Don’t March, Learn CPR\n",
      "Generated Headline:  donald trump is still want the right to the republican party in a state of democrats — for his campaign\n",
      "BLUE score: 0.4728708045015879\n",
      "-------------------------------------\n",
      "1\n",
      "Original Headline:  Jehovah's Witnesses accused of silencing victims of child abuse\n",
      "Generated Headline:  why you need to elect hillary clinton emails\n",
      "BLUE score: 0\n",
      "-------------------------------------\n"
     ]
    },
    {
     "name": "stderr",
     "output_type": "stream",
     "text": [
      "c:\\users\\phatt\\appdata\\local\\continuum\\anaconda3\\lib\\site-packages\\nltk\\translate\\bleu_score.py:490: UserWarning: \n",
      "Corpus/Sentence contains 0 counts of 2-gram overlaps.\n",
      "BLEU scores might be undesirable; use SmoothingFunction().\n",
      "  warnings.warn(_msg)\n"
     ]
    },
    {
     "name": "stdout",
     "output_type": "stream",
     "text": [
      "2\n",
      "Original Headline:  US Army veteran who served two tours in Afghanistan has been deported to Mexico\n",
      "Generated Headline:  john 6 in shooting – how you is it out for all\n",
      "BLUE score: 0.4548019047027907\n",
      "-------------------------------------\n",
      "3\n",
      "Original Headline:  Man sucker punches 5-year-old in face on New York City subway: cops\n",
      "Generated Headline:  texas who exposes an china of u.s. elections – her with her her\n",
      "BLUE score: 0\n",
      "-------------------------------------\n",
      "4\n",
      "Original Headline:  The Mormon Church Must Learn from #MeToo\n",
      "Generated Headline:  comment on facebook to vote trump by the truth of the most important - the onion - america's finest news source\n",
      "BLUE score: 0\n",
      "-------------------------------------\n",
      "5\n",
      "Original Headline:  Congress gives police in other countries easier access to U.S. data, raising privacy concerns\n",
      "Generated Headline:  obama administration reportedly say running between with clinton claims\n",
      "BLUE score: 0\n",
      "-------------------------------------\n",
      "6\n",
      "Original Headline:  Daylight Saving Time Could Soon Be Year-Round in Florida\n",
      "Generated Headline:  is the war in the us and no one kills in the 6 of hillary\n",
      "BLUE score: 0.5081327481546147\n",
      "-------------------------------------\n",
      "7\n",
      "Original Headline:  Americans less likely to trust Facebook than rivals on personal data\n",
      "Generated Headline:  why you want a big states to get this and trump and the size of the union court in the new\n",
      "BLUE score: 0.4671379777282001\n",
      "-------------------------------------\n",
      "8\n",
      "Original Headline:  Iranian hackers attacked college professors, US agencies and companies: Justice Department\n",
      "Generated Headline:  police are russia from u.s. of\n",
      "BLUE score: 0\n",
      "-------------------------------------\n",
      "9\n",
      "Original Headline:  Huawei dealt a blow, loses Best Buy as retail partner\n",
      "Generated Headline:  russia and america is the democratic of the history\n",
      "BLUE score: 0\n",
      "-------------------------------------\n",
      "10\n",
      "Original Headline:  Rare whooping crane — one of perhaps only 450 in the world — spotted near North Platte\n",
      "Generated Headline:  gop debate: whose think about we has it was banned to do\n",
      "BLUE score: 0\n",
      "-------------------------------------\n",
      "11\n",
      "Original Headline:  Fire in Siberian shopping mall leaves at least 64 people dead\n",
      "Generated Headline:  police arrest suspect over attack attack in protests\n",
      "BLUE score: 0.40866465020165643\n",
      "-------------------------------------\n",
      "12\n",
      "Original Headline:  2 West Virginia firefighters killed trying to reach fatal wreck\n",
      "Generated Headline:  iraqi troops will close to kill on human about\n",
      "BLUE score: 0.5166357204442371\n",
      "-------------------------------------\n",
      "13\n",
      "Original Headline:  ACLU Urges Greyhound to Stop Letting Federal Agents on Board to Conduct Immigration Sweeps\n",
      "Generated Headline:  hillary clinton's first of donald trump's big\n",
      "BLUE score: 0\n",
      "-------------------------------------\n",
      "14\n",
      "Original Headline:  Texas volunteers find severed head at lake, police say\n",
      "Generated Headline:  comment on facebook makes woman woman by media – truthfeed\n",
      "BLUE score: 0\n",
      "-------------------------------------\n",
      "15\n",
      "Original Headline:  Carles Puigdemont, former Catalan president, detained in Germany\n",
      "Generated Headline:  obama to prevent mental with russia probe of charlie hebdo says he also\n",
      "BLUE score: 0\n",
      "-------------------------------------\n",
      "16\n",
      "Original Headline:  Austin bombing suspect called himself a \"psychopath,\" congressman says\n",
      "Generated Headline:  will no longer the election\n",
      "BLUE score: 0\n",
      "-------------------------------------\n",
      "17\n",
      "Original Headline:  Mark Zuckerberg’s Net Worth Has Dropped $10 Billion in the Last Week\n",
      "Generated Headline:  the u.s. of nearly jobs in america years is one to know\n",
      "BLUE score: 0.6389431042462724\n",
      "-------------------------------------\n",
      "18\n",
      "Original Headline:  SFO terminal to be renamed in honor of Harvey Milk\n",
      "Generated Headline:  6 members in shooting attack\n",
      "BLUE score: 0.24601580968354606\n",
      "-------------------------------------\n",
      "19\n",
      "Original Headline:  UN reports see a lonelier planet with fewer plants, animals\n",
      "Generated Headline:  obama makes my sign of the white with\n",
      "BLUE score: 0.4630777161991027\n",
      "-------------------------------------\n",
      "Total time: 1.6884961128234863\n"
     ]
    }
   ],
   "source": [
    "import time\n",
    "\n",
    "t0 = time.time()\n",
    "%run demo/seq2seq_predict_reddit_nonclickbait.py\n",
    "t1 = time.time()\n",
    "\n",
    "total = t1-t0\n",
    "print (\"Total time:\", total)"
   ]
  },
  {
   "cell_type": "markdown",
   "metadata": {},
   "source": [
    "## Clickbait"
   ]
  },
  {
   "cell_type": "code",
   "execution_count": 4,
   "metadata": {},
   "outputs": [
    {
     "name": "stdout",
     "output_type": "stream",
     "text": [
      "loading csv file ...\n",
      "start predicting ...\n",
      "0\n",
      "Original Headline:  I downloaded 14 years of my Facebook data and here's what happened\n",
      "Generated Headline:  the daily 202: why i think clinton’s is no one of a political and\n",
      "BLUE score: 0.6147881529512643\n",
      "-------------------------------------\n",
      "1\n",
      "Original Headline:  This is what Bill Gates would tell his teenage self\n",
      "Generated Headline:  why we are the white house has a lot about to republicans with senate\n",
      "BLUE score: 0\n",
      "-------------------------------------\n"
     ]
    },
    {
     "name": "stderr",
     "output_type": "stream",
     "text": [
      "c:\\users\\phatt\\appdata\\local\\continuum\\anaconda3\\lib\\site-packages\\nltk\\translate\\bleu_score.py:490: UserWarning: \n",
      "Corpus/Sentence contains 0 counts of 2-gram overlaps.\n",
      "BLEU scores might be undesirable; use SmoothingFunction().\n",
      "  warnings.warn(_msg)\n"
     ]
    },
    {
     "name": "stdout",
     "output_type": "stream",
     "text": [
      "2\n",
      "Original Headline:  RedShark News - This could be the best way to get top software without destroying your bank account!\n",
      "Generated Headline:  is not be be in the world – no one wants to be your by\n",
      "BLUE score: 0.5883466523431029\n",
      "-------------------------------------\n",
      "3\n",
      "Original Headline:  Tiny Mummy’s ‘Alien’ Appearance Finally Explained\n",
      "Generated Headline:  the daily 202: here is not the trump and this is it\n",
      "BLUE score: 0\n",
      "-------------------------------------\n",
      "4\n",
      "Original Headline:  A student was suspended after staying in class and not walking out.\n",
      "Generated Headline:  comment on on abortion and russia makes the boston with to hit isis\n",
      "BLUE score: 0.5266403878479265\n",
      "-------------------------------------\n",
      "5\n",
      "Original Headline:  A Woman Calls 911 To Order Pizza—For The Most BRILLIANT Reason!!\n",
      "Generated Headline:  a man between trump and it’s\n",
      "BLUE score: 0\n",
      "-------------------------------------\n",
      "6\n",
      "Original Headline:  Ant McPartlin Made Emotional Confession To Mum After Crash\n",
      "Generated Headline:  what is the future of how and its own\n",
      "BLUE score: 0\n",
      "-------------------------------------\n",
      "7\n",
      "Original Headline:  5 Reasons To NOT Vaccinate Your Kids\n",
      "Generated Headline:  the man of the truth about the most free have to stop - the onion - america's finest news source\n",
      "BLUE score: 0\n",
      "-------------------------------------\n",
      "8\n",
      "Original Headline:  Former Trump aide says president 'may have done something illegal'\n",
      "Generated Headline:  trump says he was a chicago of state and hillary\n",
      "BLUE score: 0.5623413251903491\n",
      "-------------------------------------\n",
      "9\n",
      "Original Headline:  Melania Trump: Plan to Divorce Donald Revealed?!\n",
      "Generated Headline:  donald trump said he was the right about the 2016 than a foreign policy\n",
      "BLUE score: 0\n",
      "-------------------------------------\n",
      "10\n",
      "Original Headline:  Scientists Believe They Found a Way to Stop Future Hurricanes in Their Tracks\n",
      "Generated Headline:  why the truth about the truth of america\n",
      "BLUE score: 0\n",
      "-------------------------------------\n",
      "11\n",
      "Original Headline:  The scary truth about what’s hurting our kids\n",
      "Generated Headline:  will barack an polarization is the new york times\n",
      "BLUE score: 0\n",
      "-------------------------------------\n",
      "12\n",
      "Original Headline:  Why I won't be quitting Facebook\n",
      "Generated Headline:  michael moore no what she is in the middle\n",
      "BLUE score: 0\n",
      "-------------------------------------\n",
      "13\n",
      "Original Headline:  What Life Was Like 50 Years Ago Compared to Now\n",
      "Generated Headline:  how trump’s won – hillary is not a most about hillary by the u.s.\n",
      "BLUE score: 0\n",
      "-------------------------------------\n",
      "14\n",
      "Original Headline:  Why is a Parkland student barefoot on the 'Time' magazine cover?\n",
      "Generated Headline:  police arrest police arrest in crackdown on paris attack\n",
      "BLUE score: 0.46230595512422085\n",
      "-------------------------------------\n",
      "15\n",
      "Original Headline:  5 Reasons Tinder Is Dead And Is Never Coming Back\n",
      "Generated Headline:  the real truth about america is a world war\n",
      "BLUE score: 0\n",
      "-------------------------------------\n",
      "16\n",
      "Original Headline:  Guitar Center’s $1 billion in debt reveals this truth about musical tastes\n",
      "Generated Headline:  top clinton was no link between trump\n",
      "BLUE score: 0\n",
      "-------------------------------------\n",
      "17\n",
      "Original Headline:  The Real Reason Donald Trump Always Eats Fast Food Will Make You Feel Bad for Him\n",
      "Generated Headline:  is a the best of good news\n",
      "BLUE score: 0\n",
      "-------------------------------------\n",
      "18\n",
      "Original Headline:  Is Matt Damon Really Moving To Australia To Get Away From Donald Trump? The Truth\n",
      "Generated Headline:  hillary clinton responds to first private emails\n",
      "BLUE score: 0\n",
      "-------------------------------------\n",
      "19\n",
      "Original Headline:  The CEO of Arby's has begun turning around newly acquired Buffalo Wild Wings with a simple first step\n",
      "Generated Headline:  breaking: donald trump’s of hillary supporters not a foreign policy\n",
      "BLUE score: 0.3004843884984905\n",
      "-------------------------------------\n",
      "Total time: 1.7270629405975342\n"
     ]
    }
   ],
   "source": [
    "import time\n",
    "\n",
    "t0 = time.time()\n",
    "%run demo/seq2seq_predict_reddit_clickbait.py\n",
    "t1 = time.time()\n",
    "\n",
    "total = t1-t0\n",
    "print (\"Total time:\", total)"
   ]
  },
  {
   "cell_type": "markdown",
   "metadata": {},
   "source": [
    "## Score"
   ]
  },
  {
   "cell_type": "code",
   "execution_count": 1,
   "metadata": {
    "scrolled": false
   },
   "outputs": [
    {
     "name": "stdout",
     "output_type": "stream",
     "text": [
      "0.0301973834223185\n"
     ]
    },
    {
     "name": "stderr",
     "output_type": "stream",
     "text": [
      "c:\\users\\phatt\\appdata\\local\\continuum\\anaconda3\\lib\\site-packages\\nltk\\translate\\bleu_score.py:490: UserWarning: \n",
      "Corpus/Sentence contains 0 counts of 3-gram overlaps.\n",
      "BLEU scores might be undesirable; use SmoothingFunction().\n",
      "  warnings.warn(_msg)\n"
     ]
    }
   ],
   "source": [
    "# very short\n",
    "from nltk.translate.bleu_score import sentence_bleu\n",
    "reference = [['the', 'quick', 'brown', 'fox', 'jumped', 'over', 'the', 'lazy', 'dog']]\n",
    "candidate = ['the', 'quick']\n",
    "score = sentence_bleu(reference, candidate)\n",
    "print(score)"
   ]
  },
  {
   "cell_type": "code",
   "execution_count": null,
   "metadata": {},
   "outputs": [],
   "source": [
    "Generated Headline:  the u.s. of america in us election\n",
    "Original Headline:  The Wild Ideas You Missed While Donald Trump Was Talking\n",
    "Generated Headline:  global warming between house — lawmakers on immigration deal\n",
    "Original Headline:  Live from New Hampshire: They’re all here\n",
    "Generated Headline:  comment on china have no when when when asked about how the people by this this time\n",
    "Original Headline:  UK Child Protection Services workers are ‘afraid’ to challenge the ages of Muslim invaders for fear of ending up in court\n",
    "Generated Headline:  trump camp up up to block against trump of hillary\n",
    "Original Headline:  Desperate Trump Supporter Offers Voters Discount On Horse Semen If They Vote Trump\n",
    "Generated Headline:  comment on if you want what trump want by hillary clinton email investigation by the economy by russia has you\n",
    "Original Headline:  Even If You Hate Trump, What this Leftist Just Did Is VILE... | The Federalist Papers\n",
    "Generated Headline:  breaking : hillary clinton in rachel with fbi for fbi – – truthfeed\n",
    "Original Headline:  VIDEO : Black Professor, “Black Voters Are Breaking For Trump”\n",
    "Generated Headline:  breaking: who is rare to see with white house\n",
    "Original Headline:  (The Onion) Strongside/Weakside: Theo Epstein\n",
    "Generated Headline:  why can't drop for win for trump\n",
    "Original Headline:  Syria's war: How did we get here?\n",
    "Generated Headline:  trump says up while president of hillary\n",
    "Original Headline:  HA HA! Look At Arkansas Today Trump +28\n",
    "Generated Headline:  obama says first candidate emails up up white house\n",
    "Original Headline:  Bad idea: Shell’s gearing up to start drilling in the Arctic again\n",
    "Generated Headline:  a reader reader says york is not how to the most of become party are\n",
    "Original Headline:  Southern Poverty Law Center Targets Anti-Jihad Crusaders (Ann Corcoran Honored!)\n",
    "Generated Headline:  the most of america are an of president – a a good\n",
    "Original Headline:  Comment on Due Process is Dead: A Staggering 95% of All Inmates in America Have Never Received a Trial by Raymond Karczewski\n",
    "Generated Headline:  black lives matter with black lives matter\n",
    "Original Headline:  We told you so! The Zika virus is harmless\n",
    "Generated Headline:  why the best might be a trump for her war\n",
    "Original Headline:  Donald Trump wasn’t so anti-Iraq war after all. Quelle surprise.\n",
    "Generated Headline:  isis is not mosul from mosul to a new york after the middle east in the middle east\n",
    "Original Headline:  Andrew Maguire – Paper Gold Market Trades Jaw-Dropping 6,800 Tonnes In One Day!\n",
    "Generated Headline:  baltimore report\n",
    "Original Headline:  House Republicans say IRS should blame itself for rough tax season\n",
    "Generated Headline:  u.s. of black american should have no one for standing\n",
    "Original Headline:  What happened in this election?\n",
    "Generated Headline:  us violence from us troops to hit in federal\n",
    "Original Headline:  Islamic State claims responsibility for the Brussels attacks\n",
    "Generated Headline:  will face vote toward\n",
    "Original Headline:  Tehran, USA\n",
    "Generated Headline:  obama says loretta lynch becomes white house\n",
    "Original Headline:  We can't reward Hillary Clinton with the White House for breaking all the rules"
   ]
  },
  {
   "cell_type": "code",
   "execution_count": 9,
   "metadata": {},
   "outputs": [
    {
     "name": "stdout",
     "output_type": "stream",
     "text": [
      "0\n"
     ]
    }
   ],
   "source": [
    "s_reference = \"the u.s. of america in us election\"\n",
    "s_candidate = \"The Wild Ideas You Missed While Donald Trump Was Talking\"\n",
    "# s_reference = \"the quick brown fox jump\"\n",
    "# s_candidate = \"the quick brown fox\"\n",
    "score = sentence_bleu([s_reference.split()], s_candidate.split())\n",
    "print(score)"
   ]
  },
  {
   "cell_type": "code",
   "execution_count": null,
   "metadata": {},
   "outputs": [],
   "source": []
  }
 ],
 "metadata": {
  "kernelspec": {
   "display_name": "Python 3",
   "language": "python",
   "name": "python3"
  },
  "language_info": {
   "codemirror_mode": {
    "name": "ipython",
    "version": 3
   },
   "file_extension": ".py",
   "mimetype": "text/x-python",
   "name": "python",
   "nbconvert_exporter": "python",
   "pygments_lexer": "ipython3",
   "version": "3.6.3"
  }
 },
 "nbformat": 4,
 "nbformat_minor": 2
}
